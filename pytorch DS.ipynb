{
 "cells": [
  {
   "cell_type": "markdown",
   "metadata": {},
   "source": [
    "### Basic cleaning of the data was done in Power BI, where some visualizations were also drawn. The data was rearranged to fit the age and gender columns correctly, while ad_id, reporting_end and fb_campaign_id were removed. Reporting_start column was formatted to have only the day of the month, since the month and year were all the same. The reporting_start was further changed to the particular day of the week name (Monday, Tuesday and so on) for better analysis purposes. So from that we saw that the marketing campaign lasted for two weeks. Lastly, we extracted the start of each age row in order to get a singular age to represent the whole age group; this was done for easier computing while creating the model."
   ]
  },
  {
   "cell_type": "markdown",
   "metadata": {},
   "source": [
    "## Imports"
   ]
  },
  {
   "cell_type": "code",
   "execution_count": 1,
   "metadata": {},
   "outputs": [],
   "source": [
    "# importing necessary libraries\n",
    "import numpy as np\n",
    "import pandas as pd\n",
    "import matplotlib.pyplot as plt\n",
    "%matplotlib inline\n",
    "import seaborn as sns"
   ]
  },
  {
   "cell_type": "code",
   "execution_count": 2,
   "metadata": {},
   "outputs": [
    {
     "data": {
      "text/html": [
       "<div>\n",
       "<style scoped>\n",
       "    .dataframe tbody tr th:only-of-type {\n",
       "        vertical-align: middle;\n",
       "    }\n",
       "\n",
       "    .dataframe tbody tr th {\n",
       "        vertical-align: top;\n",
       "    }\n",
       "\n",
       "    .dataframe thead th {\n",
       "        text-align: right;\n",
       "    }\n",
       "</style>\n",
       "<table border=\"1\" class=\"dataframe\">\n",
       "  <thead>\n",
       "    <tr style=\"text-align: right;\">\n",
       "      <th></th>\n",
       "      <th>ad_id</th>\n",
       "      <th>reporting_start</th>\n",
       "      <th>reporting_end</th>\n",
       "      <th>campaign_id</th>\n",
       "      <th>fb_campaign_id</th>\n",
       "      <th>age</th>\n",
       "      <th>gender</th>\n",
       "      <th>interest1</th>\n",
       "      <th>interest2</th>\n",
       "      <th>interest3</th>\n",
       "      <th>impressions</th>\n",
       "      <th>clicks</th>\n",
       "      <th>spent</th>\n",
       "      <th>total_conversion</th>\n",
       "      <th>approved_conversion</th>\n",
       "    </tr>\n",
       "  </thead>\n",
       "  <tbody>\n",
       "    <tr>\n",
       "      <th>0</th>\n",
       "      <td>708746</td>\n",
       "      <td>17/08/2017</td>\n",
       "      <td>17/08/2017</td>\n",
       "      <td>916</td>\n",
       "      <td>103916</td>\n",
       "      <td>30-34</td>\n",
       "      <td>M</td>\n",
       "      <td>15</td>\n",
       "      <td>17</td>\n",
       "      <td>17</td>\n",
       "      <td>7350.0</td>\n",
       "      <td>1</td>\n",
       "      <td>1.43</td>\n",
       "      <td>2.0</td>\n",
       "      <td>1.0</td>\n",
       "    </tr>\n",
       "    <tr>\n",
       "      <th>1</th>\n",
       "      <td>708749</td>\n",
       "      <td>17/08/2017</td>\n",
       "      <td>17/08/2017</td>\n",
       "      <td>916</td>\n",
       "      <td>103917</td>\n",
       "      <td>30-34</td>\n",
       "      <td>M</td>\n",
       "      <td>16</td>\n",
       "      <td>19</td>\n",
       "      <td>21</td>\n",
       "      <td>17861.0</td>\n",
       "      <td>2</td>\n",
       "      <td>1.82</td>\n",
       "      <td>2.0</td>\n",
       "      <td>0.0</td>\n",
       "    </tr>\n",
       "    <tr>\n",
       "      <th>2</th>\n",
       "      <td>708771</td>\n",
       "      <td>17/08/2017</td>\n",
       "      <td>17/08/2017</td>\n",
       "      <td>916</td>\n",
       "      <td>103920</td>\n",
       "      <td>30-34</td>\n",
       "      <td>M</td>\n",
       "      <td>20</td>\n",
       "      <td>25</td>\n",
       "      <td>22</td>\n",
       "      <td>693.0</td>\n",
       "      <td>0</td>\n",
       "      <td>0.00</td>\n",
       "      <td>1.0</td>\n",
       "      <td>0.0</td>\n",
       "    </tr>\n",
       "    <tr>\n",
       "      <th>3</th>\n",
       "      <td>708815</td>\n",
       "      <td>30/08/2017</td>\n",
       "      <td>30/08/2017</td>\n",
       "      <td>916</td>\n",
       "      <td>103928</td>\n",
       "      <td>30-34</td>\n",
       "      <td>M</td>\n",
       "      <td>28</td>\n",
       "      <td>32</td>\n",
       "      <td>32</td>\n",
       "      <td>4259.0</td>\n",
       "      <td>1</td>\n",
       "      <td>1.25</td>\n",
       "      <td>1.0</td>\n",
       "      <td>0.0</td>\n",
       "    </tr>\n",
       "    <tr>\n",
       "      <th>4</th>\n",
       "      <td>708818</td>\n",
       "      <td>17/08/2017</td>\n",
       "      <td>17/08/2017</td>\n",
       "      <td>916</td>\n",
       "      <td>103928</td>\n",
       "      <td>30-34</td>\n",
       "      <td>M</td>\n",
       "      <td>28</td>\n",
       "      <td>33</td>\n",
       "      <td>32</td>\n",
       "      <td>4133.0</td>\n",
       "      <td>1</td>\n",
       "      <td>1.29</td>\n",
       "      <td>1.0</td>\n",
       "      <td>1.0</td>\n",
       "    </tr>\n",
       "  </tbody>\n",
       "</table>\n",
       "</div>"
      ],
      "text/plain": [
       "    ad_id reporting_start reporting_end campaign_id fb_campaign_id    age  \\\n",
       "0  708746      17/08/2017    17/08/2017         916         103916  30-34   \n",
       "1  708749      17/08/2017    17/08/2017         916         103917  30-34   \n",
       "2  708771      17/08/2017    17/08/2017         916         103920  30-34   \n",
       "3  708815      30/08/2017    30/08/2017         916         103928  30-34   \n",
       "4  708818      17/08/2017    17/08/2017         916         103928  30-34   \n",
       "\n",
       "  gender  interest1  interest2  interest3  impressions  clicks  spent  \\\n",
       "0      M         15         17         17       7350.0       1   1.43   \n",
       "1      M         16         19         21      17861.0       2   1.82   \n",
       "2      M         20         25         22        693.0       0   0.00   \n",
       "3      M         28         32         32       4259.0       1   1.25   \n",
       "4      M         28         33         32       4133.0       1   1.29   \n",
       "\n",
       "   total_conversion  approved_conversion  \n",
       "0               2.0                  1.0  \n",
       "1               2.0                  0.0  \n",
       "2               1.0                  0.0  \n",
       "3               1.0                  0.0  \n",
       "4               1.0                  1.0  "
      ]
     },
     "execution_count": 2,
     "metadata": {},
     "output_type": "execute_result"
    }
   ],
   "source": [
    "# importing the original dataset\n",
    "original_dataset = pd.read_csv('data.csv')\n",
    "original_dataset.head()"
   ]
  },
  {
   "cell_type": "code",
   "execution_count": 3,
   "metadata": {},
   "outputs": [],
   "source": [
    "# importing the cleaned dataset\n",
    "df = pd.read_csv('cleaned_data1.csv')\n",
    "\n",
    "# Splittin the dataset to x (independent variables) and y (dependent variable)\n",
    "x = df.iloc[:, :-1]\n",
    "y = df.iloc[:, -1]"
   ]
  },
  {
   "cell_type": "code",
   "execution_count": 4,
   "metadata": {},
   "outputs": [
    {
     "data": {
      "text/html": [
       "<div>\n",
       "<style scoped>\n",
       "    .dataframe tbody tr th:only-of-type {\n",
       "        vertical-align: middle;\n",
       "    }\n",
       "\n",
       "    .dataframe tbody tr th {\n",
       "        vertical-align: top;\n",
       "    }\n",
       "\n",
       "    .dataframe thead th {\n",
       "        text-align: right;\n",
       "    }\n",
       "</style>\n",
       "<table border=\"1\" class=\"dataframe\">\n",
       "  <thead>\n",
       "    <tr style=\"text-align: right;\">\n",
       "      <th></th>\n",
       "      <th>reporting_start</th>\n",
       "      <th>campaign_id</th>\n",
       "      <th>age</th>\n",
       "      <th>gender</th>\n",
       "      <th>interest1</th>\n",
       "      <th>interest2</th>\n",
       "      <th>interest3</th>\n",
       "      <th>impressions</th>\n",
       "      <th>clicks</th>\n",
       "      <th>spent</th>\n",
       "      <th>total_conversion</th>\n",
       "    </tr>\n",
       "  </thead>\n",
       "  <tbody>\n",
       "    <tr>\n",
       "      <th>0</th>\n",
       "      <td>Saturday</td>\n",
       "      <td>936</td>\n",
       "      <td>30</td>\n",
       "      <td>M</td>\n",
       "      <td>25</td>\n",
       "      <td>30</td>\n",
       "      <td>27</td>\n",
       "      <td>605</td>\n",
       "      <td>0</td>\n",
       "      <td>0.0</td>\n",
       "      <td>1</td>\n",
       "    </tr>\n",
       "    <tr>\n",
       "      <th>1</th>\n",
       "      <td>Saturday</td>\n",
       "      <td>936</td>\n",
       "      <td>30</td>\n",
       "      <td>M</td>\n",
       "      <td>26</td>\n",
       "      <td>32</td>\n",
       "      <td>29</td>\n",
       "      <td>1030</td>\n",
       "      <td>0</td>\n",
       "      <td>0.0</td>\n",
       "      <td>1</td>\n",
       "    </tr>\n",
       "    <tr>\n",
       "      <th>2</th>\n",
       "      <td>Sunday</td>\n",
       "      <td>936</td>\n",
       "      <td>30</td>\n",
       "      <td>M</td>\n",
       "      <td>36</td>\n",
       "      <td>38</td>\n",
       "      <td>38</td>\n",
       "      <td>962</td>\n",
       "      <td>0</td>\n",
       "      <td>0.0</td>\n",
       "      <td>1</td>\n",
       "    </tr>\n",
       "    <tr>\n",
       "      <th>3</th>\n",
       "      <td>Monday</td>\n",
       "      <td>936</td>\n",
       "      <td>35</td>\n",
       "      <td>M</td>\n",
       "      <td>23</td>\n",
       "      <td>24</td>\n",
       "      <td>27</td>\n",
       "      <td>239</td>\n",
       "      <td>0</td>\n",
       "      <td>0.0</td>\n",
       "      <td>1</td>\n",
       "    </tr>\n",
       "    <tr>\n",
       "      <th>4</th>\n",
       "      <td>Tuesday</td>\n",
       "      <td>936</td>\n",
       "      <td>35</td>\n",
       "      <td>M</td>\n",
       "      <td>26</td>\n",
       "      <td>27</td>\n",
       "      <td>28</td>\n",
       "      <td>591</td>\n",
       "      <td>0</td>\n",
       "      <td>0.0</td>\n",
       "      <td>1</td>\n",
       "    </tr>\n",
       "  </tbody>\n",
       "</table>\n",
       "</div>"
      ],
      "text/plain": [
       "  reporting_start  campaign_id  age gender  interest1  interest2  interest3  \\\n",
       "0        Saturday          936   30      M         25         30         27   \n",
       "1        Saturday          936   30      M         26         32         29   \n",
       "2          Sunday          936   30      M         36         38         38   \n",
       "3          Monday          936   35      M         23         24         27   \n",
       "4         Tuesday          936   35      M         26         27         28   \n",
       "\n",
       "   impressions  clicks  spent  total_conversion  \n",
       "0          605       0    0.0                 1  \n",
       "1         1030       0    0.0                 1  \n",
       "2          962       0    0.0                 1  \n",
       "3          239       0    0.0                 1  \n",
       "4          591       0    0.0                 1  "
      ]
     },
     "execution_count": 4,
     "metadata": {},
     "output_type": "execute_result"
    }
   ],
   "source": [
    "x.head()"
   ]
  },
  {
   "cell_type": "code",
   "execution_count": 5,
   "metadata": {},
   "outputs": [
    {
     "data": {
      "text/html": [
       "<div>\n",
       "<style scoped>\n",
       "    .dataframe tbody tr th:only-of-type {\n",
       "        vertical-align: middle;\n",
       "    }\n",
       "\n",
       "    .dataframe tbody tr th {\n",
       "        vertical-align: top;\n",
       "    }\n",
       "\n",
       "    .dataframe thead th {\n",
       "        text-align: right;\n",
       "    }\n",
       "</style>\n",
       "<table border=\"1\" class=\"dataframe\">\n",
       "  <thead>\n",
       "    <tr style=\"text-align: right;\">\n",
       "      <th></th>\n",
       "      <th>campaign_id</th>\n",
       "      <th>age</th>\n",
       "      <th>interest1</th>\n",
       "      <th>interest2</th>\n",
       "      <th>interest3</th>\n",
       "      <th>impressions</th>\n",
       "      <th>clicks</th>\n",
       "      <th>spent</th>\n",
       "      <th>total_conversion</th>\n",
       "    </tr>\n",
       "  </thead>\n",
       "  <tbody>\n",
       "    <tr>\n",
       "      <th>count</th>\n",
       "      <td>1143.000000</td>\n",
       "      <td>1143.000000</td>\n",
       "      <td>1143.000000</td>\n",
       "      <td>1.143000e+03</td>\n",
       "      <td>1143.000000</td>\n",
       "      <td>1.143000e+03</td>\n",
       "      <td>1143.000000</td>\n",
       "      <td>1143.000000</td>\n",
       "      <td>1143.000000</td>\n",
       "    </tr>\n",
       "    <tr>\n",
       "      <th>mean</th>\n",
       "      <td>979.819773</td>\n",
       "      <td>36.321085</td>\n",
       "      <td>33.884514</td>\n",
       "      <td>1.180606e+05</td>\n",
       "      <td>42.474191</td>\n",
       "      <td>6.872501e+04</td>\n",
       "      <td>11.629921</td>\n",
       "      <td>17.597760</td>\n",
       "      <td>17.245844</td>\n",
       "    </tr>\n",
       "    <tr>\n",
       "      <th>std</th>\n",
       "      <td>103.403952</td>\n",
       "      <td>5.903868</td>\n",
       "      <td>27.560263</td>\n",
       "      <td>2.670506e+05</td>\n",
       "      <td>48.987248</td>\n",
       "      <td>2.067023e+05</td>\n",
       "      <td>27.347899</td>\n",
       "      <td>48.418711</td>\n",
       "      <td>30.412919</td>\n",
       "    </tr>\n",
       "    <tr>\n",
       "      <th>min</th>\n",
       "      <td>916.000000</td>\n",
       "      <td>30.000000</td>\n",
       "      <td>2.000000</td>\n",
       "      <td>3.000000e+00</td>\n",
       "      <td>0.000000</td>\n",
       "      <td>0.000000e+00</td>\n",
       "      <td>0.000000</td>\n",
       "      <td>0.000000</td>\n",
       "      <td>0.000000</td>\n",
       "    </tr>\n",
       "    <tr>\n",
       "      <th>25%</th>\n",
       "      <td>916.000000</td>\n",
       "      <td>30.000000</td>\n",
       "      <td>16.000000</td>\n",
       "      <td>2.200000e+01</td>\n",
       "      <td>19.000000</td>\n",
       "      <td>1.445000e+02</td>\n",
       "      <td>1.000000</td>\n",
       "      <td>0.000000</td>\n",
       "      <td>1.000000</td>\n",
       "    </tr>\n",
       "    <tr>\n",
       "      <th>50%</th>\n",
       "      <td>936.000000</td>\n",
       "      <td>35.000000</td>\n",
       "      <td>26.000000</td>\n",
       "      <td>3.300000e+01</td>\n",
       "      <td>27.000000</td>\n",
       "      <td>3.142000e+03</td>\n",
       "      <td>2.000000</td>\n",
       "      <td>1.530000</td>\n",
       "      <td>2.000000</td>\n",
       "    </tr>\n",
       "    <tr>\n",
       "      <th>75%</th>\n",
       "      <td>936.000000</td>\n",
       "      <td>40.000000</td>\n",
       "      <td>32.000000</td>\n",
       "      <td>9.889400e+04</td>\n",
       "      <td>38.000000</td>\n",
       "      <td>2.786400e+04</td>\n",
       "      <td>8.000000</td>\n",
       "      <td>8.540000</td>\n",
       "      <td>21.000000</td>\n",
       "    </tr>\n",
       "    <tr>\n",
       "      <th>max</th>\n",
       "      <td>1178.000000</td>\n",
       "      <td>45.000000</td>\n",
       "      <td>120.000000</td>\n",
       "      <td>2.286228e+06</td>\n",
       "      <td>421.000000</td>\n",
       "      <td>3.052003e+06</td>\n",
       "      <td>340.000000</td>\n",
       "      <td>639.949998</td>\n",
       "      <td>114.000000</td>\n",
       "    </tr>\n",
       "  </tbody>\n",
       "</table>\n",
       "</div>"
      ],
      "text/plain": [
       "       campaign_id          age    interest1     interest2    interest3  \\\n",
       "count  1143.000000  1143.000000  1143.000000  1.143000e+03  1143.000000   \n",
       "mean    979.819773    36.321085    33.884514  1.180606e+05    42.474191   \n",
       "std     103.403952     5.903868    27.560263  2.670506e+05    48.987248   \n",
       "min     916.000000    30.000000     2.000000  3.000000e+00     0.000000   \n",
       "25%     916.000000    30.000000    16.000000  2.200000e+01    19.000000   \n",
       "50%     936.000000    35.000000    26.000000  3.300000e+01    27.000000   \n",
       "75%     936.000000    40.000000    32.000000  9.889400e+04    38.000000   \n",
       "max    1178.000000    45.000000   120.000000  2.286228e+06   421.000000   \n",
       "\n",
       "        impressions       clicks        spent  total_conversion  \n",
       "count  1.143000e+03  1143.000000  1143.000000       1143.000000  \n",
       "mean   6.872501e+04    11.629921    17.597760         17.245844  \n",
       "std    2.067023e+05    27.347899    48.418711         30.412919  \n",
       "min    0.000000e+00     0.000000     0.000000          0.000000  \n",
       "25%    1.445000e+02     1.000000     0.000000          1.000000  \n",
       "50%    3.142000e+03     2.000000     1.530000          2.000000  \n",
       "75%    2.786400e+04     8.000000     8.540000         21.000000  \n",
       "max    3.052003e+06   340.000000   639.949998        114.000000  "
      ]
     },
     "execution_count": 5,
     "metadata": {},
     "output_type": "execute_result"
    }
   ],
   "source": [
    "x.describe()"
   ]
  },
  {
   "cell_type": "markdown",
   "metadata": {},
   "source": [
    "### Visualization and Data Analysis"
   ]
  },
  {
   "cell_type": "code",
   "execution_count": 6,
   "metadata": {},
   "outputs": [
    {
     "data": {
      "text/plain": [
       "M    592\n",
       "F    551\n",
       "Name: gender, dtype: int64"
      ]
     },
     "execution_count": 6,
     "metadata": {},
     "output_type": "execute_result"
    }
   ],
   "source": [
    "df.gender.value_counts()"
   ]
  },
  {
   "cell_type": "code",
   "execution_count": 7,
   "metadata": {},
   "outputs": [
    {
     "data": {
      "text/plain": [
       "30    426\n",
       "45    259\n",
       "35    248\n",
       "40    210\n",
       "Name: age, dtype: int64"
      ]
     },
     "execution_count": 7,
     "metadata": {},
     "output_type": "execute_result"
    }
   ],
   "source": [
    "df.age.value_counts()"
   ]
  },
  {
   "cell_type": "code",
   "execution_count": 8,
   "metadata": {},
   "outputs": [
    {
     "data": {
      "image/png": "[encoded data removed]",
      "text/plain": [
       "<Figure size 432x288 with 1 Axes>"
      ]
     },
     "metadata": {
      "needs_background": "light"
     },
     "output_type": "display_data"
    }
   ],
   "source": [
    "sns.countplot(df.age);"
   ]
  },
  {
   "cell_type": "code",
   "execution_count": 9,
   "metadata": {},
   "outputs": [
    {
     "data": {
      "image/png": "[encoded data removed]",
      "text/plain": [
       "<Figure size 432x288 with 1 Axes>"
      ]
     },
     "metadata": {
      "needs_background": "light"
     },
     "output_type": "display_data"
    }
   ],
   "source": [
    "sns.countplot(df.gender);"
   ]
  },
  {
   "cell_type": "code",
   "execution_count": 10,
   "metadata": {},
   "outputs": [
    {
     "data": {
      "image/png": "[encoded data removed]",
      "text/plain": [
       "<Figure size 576x576 with 1 Axes>"
      ]
     },
     "metadata": {},
     "output_type": "display_data"
    }
   ],
   "source": [
    "colors = ['grey','#75daff','pink','blue','green','orange','yellow','red']\n",
    "df[['gender','age']].value_counts().plot.pie(explode=[0,0,0.2,0,0.2,0.2,0.2,0],autopct='%1.1f%%',colors=colors, figsize = (8,8))\n",
    "plt.ylabel('')\n",
    "plt.title('GENDER AND AGE ANALYSIS',fontstyle='normal', fontsize=18);"
   ]
  },
  {
   "cell_type": "code",
   "execution_count": 11,
   "metadata": {},
   "outputs": [
    {
     "data": {
      "image/png": "[encoded data removed]",
      "text/plain": [
       "<Figure size 432x288 with 1 Axes>"
      ]
     },
     "metadata": {
      "needs_background": "light"
     },
     "output_type": "display_data"
    }
   ],
   "source": [
    "sns.countplot(df.approved_conversion);"
   ]
  },
  {
   "cell_type": "code",
   "execution_count": 12,
   "metadata": {},
   "outputs": [
    {
     "data": {
      "text/html": [
       "<div>\n",
       "<style scoped>\n",
       "    .dataframe tbody tr th:only-of-type {\n",
       "        vertical-align: middle;\n",
       "    }\n",
       "\n",
       "    .dataframe tbody tr th {\n",
       "        vertical-align: top;\n",
       "    }\n",
       "\n",
       "    .dataframe thead th {\n",
       "        text-align: right;\n",
       "    }\n",
       "</style>\n",
       "<table border=\"1\" class=\"dataframe\">\n",
       "  <thead>\n",
       "    <tr style=\"text-align: right;\">\n",
       "      <th></th>\n",
       "      <th>campaign_id</th>\n",
       "      <th>age</th>\n",
       "      <th>interest1</th>\n",
       "      <th>interest2</th>\n",
       "      <th>interest3</th>\n",
       "      <th>impressions</th>\n",
       "      <th>clicks</th>\n",
       "      <th>spent</th>\n",
       "      <th>total_conversion</th>\n",
       "      <th>approved_conversion</th>\n",
       "    </tr>\n",
       "  </thead>\n",
       "  <tbody>\n",
       "    <tr>\n",
       "      <th>campaign_id</th>\n",
       "      <td>1.000000</td>\n",
       "      <td>-0.193393</td>\n",
       "      <td>-0.158668</td>\n",
       "      <td>-0.273023</td>\n",
       "      <td>-0.152725</td>\n",
       "      <td>0.551593</td>\n",
       "      <td>0.526561</td>\n",
       "      <td>0.545225</td>\n",
       "      <td>-0.270697</td>\n",
       "      <td>-0.311204</td>\n",
       "    </tr>\n",
       "    <tr>\n",
       "      <th>age</th>\n",
       "      <td>-0.193393</td>\n",
       "      <td>1.000000</td>\n",
       "      <td>0.059787</td>\n",
       "      <td>0.193400</td>\n",
       "      <td>0.181220</td>\n",
       "      <td>-0.096652</td>\n",
       "      <td>-0.036452</td>\n",
       "      <td>-0.054164</td>\n",
       "      <td>0.141398</td>\n",
       "      <td>0.158750</td>\n",
       "    </tr>\n",
       "    <tr>\n",
       "      <th>interest1</th>\n",
       "      <td>-0.158668</td>\n",
       "      <td>0.059787</td>\n",
       "      <td>1.000000</td>\n",
       "      <td>0.246366</td>\n",
       "      <td>0.211240</td>\n",
       "      <td>-0.134762</td>\n",
       "      <td>-0.104568</td>\n",
       "      <td>-0.134160</td>\n",
       "      <td>0.845414</td>\n",
       "      <td>0.838393</td>\n",
       "    </tr>\n",
       "    <tr>\n",
       "      <th>interest2</th>\n",
       "      <td>-0.273023</td>\n",
       "      <td>0.193400</td>\n",
       "      <td>0.246366</td>\n",
       "      <td>1.000000</td>\n",
       "      <td>0.905184</td>\n",
       "      <td>-0.146632</td>\n",
       "      <td>-0.060082</td>\n",
       "      <td>-0.138460</td>\n",
       "      <td>0.416684</td>\n",
       "      <td>0.441372</td>\n",
       "    </tr>\n",
       "    <tr>\n",
       "      <th>interest3</th>\n",
       "      <td>-0.152725</td>\n",
       "      <td>0.181220</td>\n",
       "      <td>0.211240</td>\n",
       "      <td>0.905184</td>\n",
       "      <td>1.000000</td>\n",
       "      <td>-0.109010</td>\n",
       "      <td>-0.031484</td>\n",
       "      <td>-0.099641</td>\n",
       "      <td>0.201631</td>\n",
       "      <td>0.220789</td>\n",
       "    </tr>\n",
       "    <tr>\n",
       "      <th>impressions</th>\n",
       "      <td>0.551593</td>\n",
       "      <td>-0.096652</td>\n",
       "      <td>-0.134762</td>\n",
       "      <td>-0.146632</td>\n",
       "      <td>-0.109010</td>\n",
       "      <td>1.000000</td>\n",
       "      <td>0.965629</td>\n",
       "      <td>0.980918</td>\n",
       "      <td>-0.071015</td>\n",
       "      <td>-0.142692</td>\n",
       "    </tr>\n",
       "    <tr>\n",
       "      <th>clicks</th>\n",
       "      <td>0.526561</td>\n",
       "      <td>-0.036452</td>\n",
       "      <td>-0.104568</td>\n",
       "      <td>-0.060082</td>\n",
       "      <td>-0.031484</td>\n",
       "      <td>0.965629</td>\n",
       "      <td>1.000000</td>\n",
       "      <td>0.992596</td>\n",
       "      <td>-0.038972</td>\n",
       "      <td>-0.105217</td>\n",
       "    </tr>\n",
       "    <tr>\n",
       "      <th>spent</th>\n",
       "      <td>0.545225</td>\n",
       "      <td>-0.054164</td>\n",
       "      <td>-0.134160</td>\n",
       "      <td>-0.138460</td>\n",
       "      <td>-0.099641</td>\n",
       "      <td>0.980918</td>\n",
       "      <td>0.992596</td>\n",
       "      <td>1.000000</td>\n",
       "      <td>-0.079021</td>\n",
       "      <td>-0.147496</td>\n",
       "    </tr>\n",
       "    <tr>\n",
       "      <th>total_conversion</th>\n",
       "      <td>-0.270697</td>\n",
       "      <td>0.141398</td>\n",
       "      <td>0.845414</td>\n",
       "      <td>0.416684</td>\n",
       "      <td>0.201631</td>\n",
       "      <td>-0.071015</td>\n",
       "      <td>-0.038972</td>\n",
       "      <td>-0.079021</td>\n",
       "      <td>1.000000</td>\n",
       "      <td>0.995392</td>\n",
       "    </tr>\n",
       "    <tr>\n",
       "      <th>approved_conversion</th>\n",
       "      <td>-0.311204</td>\n",
       "      <td>0.158750</td>\n",
       "      <td>0.838393</td>\n",
       "      <td>0.441372</td>\n",
       "      <td>0.220789</td>\n",
       "      <td>-0.142692</td>\n",
       "      <td>-0.105217</td>\n",
       "      <td>-0.147496</td>\n",
       "      <td>0.995392</td>\n",
       "      <td>1.000000</td>\n",
       "    </tr>\n",
       "  </tbody>\n",
       "</table>\n",
       "</div>"
      ],
      "text/plain": [
       "                     campaign_id       age  interest1  interest2  interest3  \\\n",
       "campaign_id             1.000000 -0.193393  -0.158668  -0.273023  -0.152725   \n",
       "age                    -0.193393  1.000000   0.059787   0.193400   0.181220   \n",
       "interest1              -0.158668  0.059787   1.000000   0.246366   0.211240   \n",
       "interest2              -0.273023  0.193400   0.246366   1.000000   0.905184   \n",
       "interest3              -0.152725  0.181220   0.211240   0.905184   1.000000   \n",
       "impressions             0.551593 -0.096652  -0.134762  -0.146632  -0.109010   \n",
       "clicks                  0.526561 -0.036452  -0.104568  -0.060082  -0.031484   \n",
       "spent                   0.545225 -0.054164  -0.134160  -0.138460  -0.099641   \n",
       "total_conversion       -0.270697  0.141398   0.845414   0.416684   0.201631   \n",
       "approved_conversion    -0.311204  0.158750   0.838393   0.441372   0.220789   \n",
       "\n",
       "                     impressions    clicks     spent  total_conversion  \\\n",
       "campaign_id             0.551593  0.526561  0.545225         -0.270697   \n",
       "age                    -0.096652 -0.036452 -0.054164          0.141398   \n",
       "interest1              -0.134762 -0.104568 -0.134160          0.845414   \n",
       "interest2              -0.146632 -0.060082 -0.138460          0.416684   \n",
       "interest3              -0.109010 -0.031484 -0.099641          0.201631   \n",
       "impressions             1.000000  0.965629  0.980918         -0.071015   \n",
       "clicks                  0.965629  1.000000  0.992596         -0.038972   \n",
       "spent                   0.980918  0.992596  1.000000         -0.079021   \n",
       "total_conversion       -0.071015 -0.038972 -0.079021          1.000000   \n",
       "approved_conversion    -0.142692 -0.105217 -0.147496          0.995392   \n",
       "\n",
       "                     approved_conversion  \n",
       "campaign_id                    -0.311204  \n",
       "age                             0.158750  \n",
       "interest1                       0.838393  \n",
       "interest2                       0.441372  \n",
       "interest3                       0.220789  \n",
       "impressions                    -0.142692  \n",
       "clicks                         -0.105217  \n",
       "spent                          -0.147496  \n",
       "total_conversion                0.995392  \n",
       "approved_conversion             1.000000  "
      ]
     },
     "execution_count": 12,
     "metadata": {},
     "output_type": "execute_result"
    }
   ],
   "source": [
    "# checking to determine the correlation\n",
    "corrmat = df.corr()\n",
    "corrmat"
   ]
  },
  {
   "cell_type": "code",
   "execution_count": 13,
   "metadata": {},
   "outputs": [
    {
     "data": {
      "text/plain": [
       "(10, 10)"
      ]
     },
     "execution_count": 13,
     "metadata": {},
     "output_type": "execute_result"
    }
   ],
   "source": [
    "corrmat.shape"
   ]
  },
  {
   "cell_type": "code",
   "execution_count": 14,
   "metadata": {},
   "outputs": [
    {
     "data": {
      "image/png": "[encoded data removed]",
      "text/plain": [
       "<Figure size 864x576 with 2 Axes>"
      ]
     },
     "metadata": {
      "needs_background": "light"
     },
     "output_type": "display_data"
    }
   ],
   "source": [
    "fig, ax = plt.subplots(figsize = (12,8))\n",
    "sns.heatmap(corrmat, annot=True, cmap='rainbow_r');"
   ]
  },
  {
   "cell_type": "code",
   "execution_count": 15,
   "metadata": {},
   "outputs": [
    {
     "data": {
      "text/plain": [
       "Index(['campaign_id', 'age', 'interest1', 'interest2', 'interest3',\n",
       "       'impressions', 'clicks', 'spent', 'total_conversion',\n",
       "       'approved_conversion'],\n",
       "      dtype='object')"
      ]
     },
     "execution_count": 15,
     "metadata": {},
     "output_type": "execute_result"
    }
   ],
   "source": [
    "corrmat.index"
   ]
  },
  {
   "cell_type": "code",
   "execution_count": 16,
   "metadata": {},
   "outputs": [],
   "source": [
    "# creating a function to get the correlated features\n",
    "\n",
    "def get_correlated_feature(corrdata, threshold):\n",
    "    feature = []\n",
    "    value = []\n",
    "    \n",
    "    for i, index in enumerate(corrdata.index):\n",
    "        if abs(corrdata[index]) > threshold:\n",
    "            feature.append(index)\n",
    "            value.append(corrdata[index])\n",
    "    \n",
    "    dh = pd.DataFrame(data=value, index=feature, columns=['corr_value'])\n",
    "    return dh"
   ]
  },
  {
   "cell_type": "code",
   "execution_count": 17,
   "metadata": {},
   "outputs": [],
   "source": [
    "threshold = 0.2\n",
    "corr_df = get_correlated_feature(corrmat['approved_conversion'],threshold)"
   ]
  },
  {
   "cell_type": "code",
   "execution_count": 18,
   "metadata": {},
   "outputs": [
    {
     "data": {
      "text/html": [
       "<div>\n",
       "<style scoped>\n",
       "    .dataframe tbody tr th:only-of-type {\n",
       "        vertical-align: middle;\n",
       "    }\n",
       "\n",
       "    .dataframe tbody tr th {\n",
       "        vertical-align: top;\n",
       "    }\n",
       "\n",
       "    .dataframe thead th {\n",
       "        text-align: right;\n",
       "    }\n",
       "</style>\n",
       "<table border=\"1\" class=\"dataframe\">\n",
       "  <thead>\n",
       "    <tr style=\"text-align: right;\">\n",
       "      <th></th>\n",
       "      <th>corr_value</th>\n",
       "    </tr>\n",
       "  </thead>\n",
       "  <tbody>\n",
       "    <tr>\n",
       "      <th>campaign_id</th>\n",
       "      <td>-0.311204</td>\n",
       "    </tr>\n",
       "    <tr>\n",
       "      <th>interest1</th>\n",
       "      <td>0.838393</td>\n",
       "    </tr>\n",
       "    <tr>\n",
       "      <th>interest2</th>\n",
       "      <td>0.441372</td>\n",
       "    </tr>\n",
       "    <tr>\n",
       "      <th>interest3</th>\n",
       "      <td>0.220789</td>\n",
       "    </tr>\n",
       "    <tr>\n",
       "      <th>total_conversion</th>\n",
       "      <td>0.995392</td>\n",
       "    </tr>\n",
       "    <tr>\n",
       "      <th>approved_conversion</th>\n",
       "      <td>1.000000</td>\n",
       "    </tr>\n",
       "  </tbody>\n",
       "</table>\n",
       "</div>"
      ],
      "text/plain": [
       "                     corr_value\n",
       "campaign_id           -0.311204\n",
       "interest1              0.838393\n",
       "interest2              0.441372\n",
       "interest3              0.220789\n",
       "total_conversion       0.995392\n",
       "approved_conversion    1.000000"
      ]
     },
     "execution_count": 18,
     "metadata": {},
     "output_type": "execute_result"
    }
   ],
   "source": [
    "corr_df"
   ]
  },
  {
   "cell_type": "code",
   "execution_count": 19,
   "metadata": {},
   "outputs": [
    {
     "data": {
      "text/html": [
       "<div>\n",
       "<style scoped>\n",
       "    .dataframe tbody tr th:only-of-type {\n",
       "        vertical-align: middle;\n",
       "    }\n",
       "\n",
       "    .dataframe tbody tr th {\n",
       "        vertical-align: top;\n",
       "    }\n",
       "\n",
       "    .dataframe thead th {\n",
       "        text-align: right;\n",
       "    }\n",
       "</style>\n",
       "<table border=\"1\" class=\"dataframe\">\n",
       "  <thead>\n",
       "    <tr style=\"text-align: right;\">\n",
       "      <th></th>\n",
       "      <th>campaign_id</th>\n",
       "      <th>interest1</th>\n",
       "      <th>interest2</th>\n",
       "      <th>interest3</th>\n",
       "      <th>total_conversion</th>\n",
       "      <th>approved_conversion</th>\n",
       "    </tr>\n",
       "  </thead>\n",
       "  <tbody>\n",
       "    <tr>\n",
       "      <th>0</th>\n",
       "      <td>936</td>\n",
       "      <td>25</td>\n",
       "      <td>30</td>\n",
       "      <td>27</td>\n",
       "      <td>1</td>\n",
       "      <td>0</td>\n",
       "    </tr>\n",
       "    <tr>\n",
       "      <th>1</th>\n",
       "      <td>936</td>\n",
       "      <td>26</td>\n",
       "      <td>32</td>\n",
       "      <td>29</td>\n",
       "      <td>1</td>\n",
       "      <td>0</td>\n",
       "    </tr>\n",
       "    <tr>\n",
       "      <th>2</th>\n",
       "      <td>936</td>\n",
       "      <td>36</td>\n",
       "      <td>38</td>\n",
       "      <td>38</td>\n",
       "      <td>1</td>\n",
       "      <td>0</td>\n",
       "    </tr>\n",
       "    <tr>\n",
       "      <th>3</th>\n",
       "      <td>936</td>\n",
       "      <td>23</td>\n",
       "      <td>24</td>\n",
       "      <td>27</td>\n",
       "      <td>1</td>\n",
       "      <td>0</td>\n",
       "    </tr>\n",
       "    <tr>\n",
       "      <th>4</th>\n",
       "      <td>936</td>\n",
       "      <td>26</td>\n",
       "      <td>27</td>\n",
       "      <td>28</td>\n",
       "      <td>1</td>\n",
       "      <td>0</td>\n",
       "    </tr>\n",
       "  </tbody>\n",
       "</table>\n",
       "</div>"
      ],
      "text/plain": [
       "   campaign_id  interest1  interest2  interest3  total_conversion  \\\n",
       "0          936         25         30         27                 1   \n",
       "1          936         26         32         29                 1   \n",
       "2          936         36         38         38                 1   \n",
       "3          936         23         24         27                 1   \n",
       "4          936         26         27         28                 1   \n",
       "\n",
       "   approved_conversion  \n",
       "0                    0  \n",
       "1                    0  \n",
       "2                    0  \n",
       "3                    0  \n",
       "4                    0  "
      ]
     },
     "execution_count": 19,
     "metadata": {},
     "output_type": "execute_result"
    }
   ],
   "source": [
    "correlated_data = df[corr_df.index]\n",
    "correlated_data.head()"
   ]
  },
  {
   "cell_type": "code",
   "execution_count": 20,
   "metadata": {},
   "outputs": [
    {
     "data": {
      "image/png": "[encoded data removed]",
      "text/plain": [
       "<Figure size 432x432 with 2 Axes>"
      ]
     },
     "metadata": {
      "needs_background": "light"
     },
     "output_type": "display_data"
    }
   ],
   "source": [
    "fig, ax = plt.subplots(figsize = (6,6))\n",
    "sns.heatmap(correlated_data.corr(), annot=True, cmap='rainbow_r');"
   ]
  },
  {
   "cell_type": "markdown",
   "metadata": {},
   "source": [
    "## Encoding the categorical data"
   ]
  },
  {
   "cell_type": "code",
   "execution_count": 21,
   "metadata": {},
   "outputs": [],
   "source": [
    "# get dummies for age\n",
    "x = pd.concat([x, pd.get_dummies(x['reporting_start'], drop_first=True, prefix='rs')],axis=1)\n",
    "x.drop('reporting_start',inplace=True,axis=1)"
   ]
  },
  {
   "cell_type": "code",
   "execution_count": 22,
   "metadata": {},
   "outputs": [
    {
     "data": {
      "text/html": [
       "<div>\n",
       "<style scoped>\n",
       "    .dataframe tbody tr th:only-of-type {\n",
       "        vertical-align: middle;\n",
       "    }\n",
       "\n",
       "    .dataframe tbody tr th {\n",
       "        vertical-align: top;\n",
       "    }\n",
       "\n",
       "    .dataframe thead th {\n",
       "        text-align: right;\n",
       "    }\n",
       "</style>\n",
       "<table border=\"1\" class=\"dataframe\">\n",
       "  <thead>\n",
       "    <tr style=\"text-align: right;\">\n",
       "      <th></th>\n",
       "      <th>campaign_id</th>\n",
       "      <th>age</th>\n",
       "      <th>gender</th>\n",
       "      <th>interest1</th>\n",
       "      <th>interest2</th>\n",
       "      <th>interest3</th>\n",
       "      <th>impressions</th>\n",
       "      <th>clicks</th>\n",
       "      <th>spent</th>\n",
       "      <th>total_conversion</th>\n",
       "      <th>rs_Monday</th>\n",
       "      <th>rs_Saturday</th>\n",
       "      <th>rs_Sunday</th>\n",
       "      <th>rs_Thursday</th>\n",
       "      <th>rs_Tuesday</th>\n",
       "      <th>rs_Wednesday</th>\n",
       "    </tr>\n",
       "  </thead>\n",
       "  <tbody>\n",
       "    <tr>\n",
       "      <th>0</th>\n",
       "      <td>936</td>\n",
       "      <td>30</td>\n",
       "      <td>1</td>\n",
       "      <td>25</td>\n",
       "      <td>30</td>\n",
       "      <td>27</td>\n",
       "      <td>605</td>\n",
       "      <td>0</td>\n",
       "      <td>0.0</td>\n",
       "      <td>1</td>\n",
       "      <td>0</td>\n",
       "      <td>1</td>\n",
       "      <td>0</td>\n",
       "      <td>0</td>\n",
       "      <td>0</td>\n",
       "      <td>0</td>\n",
       "    </tr>\n",
       "    <tr>\n",
       "      <th>1</th>\n",
       "      <td>936</td>\n",
       "      <td>30</td>\n",
       "      <td>1</td>\n",
       "      <td>26</td>\n",
       "      <td>32</td>\n",
       "      <td>29</td>\n",
       "      <td>1030</td>\n",
       "      <td>0</td>\n",
       "      <td>0.0</td>\n",
       "      <td>1</td>\n",
       "      <td>0</td>\n",
       "      <td>1</td>\n",
       "      <td>0</td>\n",
       "      <td>0</td>\n",
       "      <td>0</td>\n",
       "      <td>0</td>\n",
       "    </tr>\n",
       "    <tr>\n",
       "      <th>2</th>\n",
       "      <td>936</td>\n",
       "      <td>30</td>\n",
       "      <td>1</td>\n",
       "      <td>36</td>\n",
       "      <td>38</td>\n",
       "      <td>38</td>\n",
       "      <td>962</td>\n",
       "      <td>0</td>\n",
       "      <td>0.0</td>\n",
       "      <td>1</td>\n",
       "      <td>0</td>\n",
       "      <td>0</td>\n",
       "      <td>1</td>\n",
       "      <td>0</td>\n",
       "      <td>0</td>\n",
       "      <td>0</td>\n",
       "    </tr>\n",
       "    <tr>\n",
       "      <th>3</th>\n",
       "      <td>936</td>\n",
       "      <td>35</td>\n",
       "      <td>1</td>\n",
       "      <td>23</td>\n",
       "      <td>24</td>\n",
       "      <td>27</td>\n",
       "      <td>239</td>\n",
       "      <td>0</td>\n",
       "      <td>0.0</td>\n",
       "      <td>1</td>\n",
       "      <td>1</td>\n",
       "      <td>0</td>\n",
       "      <td>0</td>\n",
       "      <td>0</td>\n",
       "      <td>0</td>\n",
       "      <td>0</td>\n",
       "    </tr>\n",
       "    <tr>\n",
       "      <th>4</th>\n",
       "      <td>936</td>\n",
       "      <td>35</td>\n",
       "      <td>1</td>\n",
       "      <td>26</td>\n",
       "      <td>27</td>\n",
       "      <td>28</td>\n",
       "      <td>591</td>\n",
       "      <td>0</td>\n",
       "      <td>0.0</td>\n",
       "      <td>1</td>\n",
       "      <td>0</td>\n",
       "      <td>0</td>\n",
       "      <td>0</td>\n",
       "      <td>0</td>\n",
       "      <td>1</td>\n",
       "      <td>0</td>\n",
       "    </tr>\n",
       "  </tbody>\n",
       "</table>\n",
       "</div>"
      ],
      "text/plain": [
       "   campaign_id  age  gender  interest1  interest2  interest3  impressions  \\\n",
       "0          936   30       1         25         30         27          605   \n",
       "1          936   30       1         26         32         29         1030   \n",
       "2          936   30       1         36         38         38          962   \n",
       "3          936   35       1         23         24         27          239   \n",
       "4          936   35       1         26         27         28          591   \n",
       "\n",
       "   clicks  spent  total_conversion  rs_Monday  rs_Saturday  rs_Sunday  \\\n",
       "0       0    0.0                 1          0            1          0   \n",
       "1       0    0.0                 1          0            1          0   \n",
       "2       0    0.0                 1          0            0          1   \n",
       "3       0    0.0                 1          1            0          0   \n",
       "4       0    0.0                 1          0            0          0   \n",
       "\n",
       "   rs_Thursday  rs_Tuesday  rs_Wednesday  \n",
       "0            0           0             0  \n",
       "1            0           0             0  \n",
       "2            0           0             0  \n",
       "3            0           0             0  \n",
       "4            0           1             0  "
      ]
     },
     "execution_count": 22,
     "metadata": {},
     "output_type": "execute_result"
    }
   ],
   "source": [
    "# Encoding the gender column\n",
    "from sklearn.preprocessing import LabelEncoder\n",
    "lb = LabelEncoder()\n",
    "x['gender'] = lb.fit_transform(x['gender'])\n",
    "\n",
    "x.head()"
   ]
  },
  {
   "cell_type": "code",
   "execution_count": 23,
   "metadata": {},
   "outputs": [
    {
     "data": {
      "text/plain": [
       "campaign_id         category\n",
       "age                    int32\n",
       "gender                 int32\n",
       "interest1              int32\n",
       "interest2              int32\n",
       "interest3              int32\n",
       "impressions            int32\n",
       "clicks                 int32\n",
       "spent                  int32\n",
       "total_conversion       int32\n",
       "rs_Monday              uint8\n",
       "rs_Saturday            uint8\n",
       "rs_Sunday              uint8\n",
       "rs_Thursday            uint8\n",
       "rs_Tuesday             uint8\n",
       "rs_Wednesday           uint8\n",
       "dtype: object"
      ]
     },
     "execution_count": 23,
     "metadata": {},
     "output_type": "execute_result"
    }
   ],
   "source": [
    "x.clicks=x.clicks.astype(int)\n",
    "x.age=x.age.astype(int)\n",
    "x.impressions=x.impressions.astype(int)\n",
    "x.spent=x.spent.astype(int)\n",
    "x.interest1=x.interest1.astype(int)\n",
    "x.interest2=x.interest2.astype(int)\n",
    "x.interest3=x.interest3.astype(int)\n",
    "x.campaign_id=x.campaign_id.astype('category')\n",
    "x.total_conversion=x.total_conversion.astype(int)\n",
    "\n",
    "x.dtypes"
   ]
  },
  {
   "cell_type": "code",
   "execution_count": 24,
   "metadata": {},
   "outputs": [
    {
     "data": {
      "text/plain": [
       "1    735\n",
       "0    408\n",
       "Name: approved_conversion, dtype: int64"
      ]
     },
     "execution_count": 24,
     "metadata": {},
     "output_type": "execute_result"
    }
   ],
   "source": [
    "# Encoding the approved_conversion column to have class balance. \n",
    "y = y.replace([range(2,22000)], 1)\n",
    "\n",
    "y = y.astype('category')\n",
    "y.value_counts()"
   ]
  },
  {
   "cell_type": "markdown",
   "metadata": {},
   "source": [
    "## Splitting the dataset to Trainning and Test set"
   ]
  },
  {
   "cell_type": "code",
   "execution_count": 25,
   "metadata": {},
   "outputs": [
    {
     "data": {
      "text/html": [
       "<div>\n",
       "<style scoped>\n",
       "    .dataframe tbody tr th:only-of-type {\n",
       "        vertical-align: middle;\n",
       "    }\n",
       "\n",
       "    .dataframe tbody tr th {\n",
       "        vertical-align: top;\n",
       "    }\n",
       "\n",
       "    .dataframe thead th {\n",
       "        text-align: right;\n",
       "    }\n",
       "</style>\n",
       "<table border=\"1\" class=\"dataframe\">\n",
       "  <thead>\n",
       "    <tr style=\"text-align: right;\">\n",
       "      <th></th>\n",
       "      <th>campaign_id</th>\n",
       "      <th>age</th>\n",
       "      <th>gender</th>\n",
       "      <th>interest1</th>\n",
       "      <th>interest2</th>\n",
       "      <th>interest3</th>\n",
       "      <th>impressions</th>\n",
       "      <th>clicks</th>\n",
       "      <th>spent</th>\n",
       "      <th>total_conversion</th>\n",
       "      <th>rs_Monday</th>\n",
       "      <th>rs_Saturday</th>\n",
       "      <th>rs_Sunday</th>\n",
       "      <th>rs_Thursday</th>\n",
       "      <th>rs_Tuesday</th>\n",
       "      <th>rs_Wednesday</th>\n",
       "    </tr>\n",
       "  </thead>\n",
       "  <tbody>\n",
       "    <tr>\n",
       "      <th>12</th>\n",
       "      <td>936</td>\n",
       "      <td>35</td>\n",
       "      <td>0</td>\n",
       "      <td>64</td>\n",
       "      <td>65</td>\n",
       "      <td>68</td>\n",
       "      <td>1393</td>\n",
       "      <td>0</td>\n",
       "      <td>0</td>\n",
       "      <td>1</td>\n",
       "      <td>0</td>\n",
       "      <td>0</td>\n",
       "      <td>0</td>\n",
       "      <td>0</td>\n",
       "      <td>0</td>\n",
       "      <td>0</td>\n",
       "    </tr>\n",
       "    <tr>\n",
       "      <th>758</th>\n",
       "      <td>916</td>\n",
       "      <td>35</td>\n",
       "      <td>0</td>\n",
       "      <td>110</td>\n",
       "      <td>502710</td>\n",
       "      <td>72</td>\n",
       "      <td>105</td>\n",
       "      <td>8</td>\n",
       "      <td>2</td>\n",
       "      <td>108</td>\n",
       "      <td>0</td>\n",
       "      <td>0</td>\n",
       "      <td>0</td>\n",
       "      <td>0</td>\n",
       "      <td>0</td>\n",
       "      <td>0</td>\n",
       "    </tr>\n",
       "    <tr>\n",
       "      <th>636</th>\n",
       "      <td>1178</td>\n",
       "      <td>35</td>\n",
       "      <td>1</td>\n",
       "      <td>25</td>\n",
       "      <td>30</td>\n",
       "      <td>29</td>\n",
       "      <td>368986</td>\n",
       "      <td>59</td>\n",
       "      <td>100</td>\n",
       "      <td>0</td>\n",
       "      <td>0</td>\n",
       "      <td>0</td>\n",
       "      <td>0</td>\n",
       "      <td>0</td>\n",
       "      <td>1</td>\n",
       "      <td>0</td>\n",
       "    </tr>\n",
       "    <tr>\n",
       "      <th>1109</th>\n",
       "      <td>916</td>\n",
       "      <td>40</td>\n",
       "      <td>0</td>\n",
       "      <td>29</td>\n",
       "      <td>195220</td>\n",
       "      <td>51</td>\n",
       "      <td>78</td>\n",
       "      <td>1</td>\n",
       "      <td>0</td>\n",
       "      <td>23</td>\n",
       "      <td>0</td>\n",
       "      <td>0</td>\n",
       "      <td>0</td>\n",
       "      <td>1</td>\n",
       "      <td>0</td>\n",
       "      <td>0</td>\n",
       "    </tr>\n",
       "    <tr>\n",
       "      <th>743</th>\n",
       "      <td>916</td>\n",
       "      <td>30</td>\n",
       "      <td>1</td>\n",
       "      <td>103</td>\n",
       "      <td>72228</td>\n",
       "      <td>5</td>\n",
       "      <td>8</td>\n",
       "      <td>4</td>\n",
       "      <td>4</td>\n",
       "      <td>101</td>\n",
       "      <td>0</td>\n",
       "      <td>0</td>\n",
       "      <td>0</td>\n",
       "      <td>0</td>\n",
       "      <td>0</td>\n",
       "      <td>0</td>\n",
       "    </tr>\n",
       "  </tbody>\n",
       "</table>\n",
       "</div>"
      ],
      "text/plain": [
       "     campaign_id  age  gender  interest1  interest2  interest3  impressions  \\\n",
       "12           936   35       0         64         65         68         1393   \n",
       "758          916   35       0        110     502710         72          105   \n",
       "636         1178   35       1         25         30         29       368986   \n",
       "1109         916   40       0         29     195220         51           78   \n",
       "743          916   30       1        103      72228          5            8   \n",
       "\n",
       "      clicks  spent  total_conversion  rs_Monday  rs_Saturday  rs_Sunday  \\\n",
       "12         0      0                 1          0            0          0   \n",
       "758        8      2               108          0            0          0   \n",
       "636       59    100                 0          0            0          0   \n",
       "1109       1      0                23          0            0          0   \n",
       "743        4      4               101          0            0          0   \n",
       "\n",
       "      rs_Thursday  rs_Tuesday  rs_Wednesday  \n",
       "12              0           0             0  \n",
       "758             0           0             0  \n",
       "636             0           1             0  \n",
       "1109            1           0             0  \n",
       "743             0           0             0  "
      ]
     },
     "execution_count": 25,
     "metadata": {},
     "output_type": "execute_result"
    }
   ],
   "source": [
    "from sklearn.model_selection import train_test_split\n",
    "x_train, x_test, y_train, y_test = train_test_split(x, y, test_size = 0.2, random_state = 42)\n",
    "\n",
    "x_train.head()"
   ]
  },
  {
   "cell_type": "markdown",
   "metadata": {},
   "source": [
    "## Feature Scaling"
   ]
  },
  {
   "cell_type": "code",
   "execution_count": 26,
   "metadata": {},
   "outputs": [
    {
     "data": {
      "text/plain": [
       "array([[-0.43847354, -0.24253441, -1.065605  , ..., -0.34655164,\n",
       "        -0.39803064, -0.44838739],\n",
       "       [-0.62883349, -0.24253441, -1.065605  , ..., -0.34655164,\n",
       "        -0.39803064, -0.44838739],\n",
       "       [ 1.86488192, -0.24253441,  0.93843403, ..., -0.34655164,\n",
       "         2.5123694 , -0.44838739],\n",
       "       ...,\n",
       "       [-0.62883349, -0.24253441,  0.93843403, ..., -0.34655164,\n",
       "        -0.39803064, -0.44838739],\n",
       "       [-0.62883349,  1.43049538,  0.93843403, ..., -0.34655164,\n",
       "         2.5123694 , -0.44838739],\n",
       "       [-0.62883349,  1.43049538, -1.065605  , ..., -0.34655164,\n",
       "        -0.39803064, -0.44838739]])"
      ]
     },
     "execution_count": 26,
     "metadata": {},
     "output_type": "execute_result"
    }
   ],
   "source": [
    "from sklearn.preprocessing import StandardScaler\n",
    "sc = StandardScaler()\n",
    "x_train = sc.fit_transform(x_train)\n",
    "x_test = sc.transform(x_test)\n",
    "\n",
    "x_train"
   ]
  },
  {
   "cell_type": "markdown",
   "metadata": {},
   "source": [
    "## Trainning the Model on the Trainning Sets and Predicting the Test Set results"
   ]
  },
  {
   "cell_type": "markdown",
   "metadata": {},
   "source": [
    "### Using logistic regression"
   ]
  },
  {
   "cell_type": "code",
   "execution_count": 27,
   "metadata": {},
   "outputs": [
    {
     "data": {
      "text/plain": [
       "LogisticRegression()"
      ]
     },
     "execution_count": 27,
     "metadata": {},
     "output_type": "execute_result"
    }
   ],
   "source": [
    "from sklearn.linear_model import LogisticRegression\n",
    "classifier = LogisticRegression()\n",
    "classifier.fit(x_train, y_train)"
   ]
  },
  {
   "cell_type": "code",
   "execution_count": 28,
   "metadata": {},
   "outputs": [
    {
     "name": "stdout",
     "output_type": "stream",
     "text": [
      "[[77 13]\n",
      " [51 88]]\n"
     ]
    },
    {
     "data": {
      "text/plain": [
       "0.7205240174672489"
      ]
     },
     "execution_count": 28,
     "metadata": {},
     "output_type": "execute_result"
    }
   ],
   "source": [
    "# Predicting the y_test result with the classsifier model\n",
    "y_pred = classifier.predict(x_test)\n",
    "\n",
    "# Using confusion matrix and accuracy score to analyse the model's accuracy\n",
    "from sklearn.metrics import confusion_matrix, accuracy_score, classification_report\n",
    "cm = confusion_matrix(y_test, y_pred)\n",
    "print(cm)\n",
    "accuracy_score(y_test, y_pred)"
   ]
  },
  {
   "cell_type": "code",
   "execution_count": 29,
   "metadata": {},
   "outputs": [
    {
     "name": "stdout",
     "output_type": "stream",
     "text": [
      "              precision    recall  f1-score   support\n",
      "\n",
      "           0       0.60      0.86      0.71        90\n",
      "           1       0.87      0.63      0.73       139\n",
      "\n",
      "    accuracy                           0.72       229\n",
      "   macro avg       0.74      0.74      0.72       229\n",
      "weighted avg       0.77      0.72      0.72       229\n",
      "\n"
     ]
    }
   ],
   "source": [
    "print(classification_report(y_test,y_pred))"
   ]
  },
  {
   "cell_type": "code",
   "execution_count": 30,
   "metadata": {},
   "outputs": [],
   "source": [
    "# Tuning the hyperparameters using Randomized Search Cv to try to improve the Model\n",
    "\n",
    "# Setting up the grid parameters\n",
    "log_reg_grid = {\"C\": np.logspace(-4, 4, 20),\n",
    "                \"solver\": [\"liblinear\"]}\n",
    "\n",
    "from sklearn.model_selection import RandomizedSearchCV"
   ]
  },
  {
   "cell_type": "code",
   "execution_count": 31,
   "metadata": {},
   "outputs": [
    {
     "name": "stdout",
     "output_type": "stream",
     "text": [
      "Fitting 5 folds for each of 20 candidates, totalling 100 fits\n"
     ]
    },
    {
     "name": "stderr",
     "output_type": "stream",
     "text": [
      "[Parallel(n_jobs=1)]: Using backend SequentialBackend with 1 concurrent workers.\n",
      "[Parallel(n_jobs=1)]: Done 100 out of 100 | elapsed:    0.8s finished\n"
     ]
    }
   ],
   "source": [
    "# Setup random seed\n",
    "np.random.seed(42)\n",
    "\n",
    "# Setup random hyperparameter search for LogisticRegression\n",
    "rs_log_reg = RandomizedSearchCV(LogisticRegression(),\n",
    "                                param_distributions=log_reg_grid,\n",
    "                                cv=5,\n",
    "                                n_iter=20,\n",
    "                                verbose=True)\n",
    "\n",
    "# Fit random hyperparameter search model\n",
    "rs_log_reg.fit(x_train, y_train);"
   ]
  },
  {
   "cell_type": "code",
   "execution_count": 32,
   "metadata": {},
   "outputs": [
    {
     "data": {
      "text/plain": [
       "{'solver': 'liblinear', 'C': 78.47599703514607}"
      ]
     },
     "execution_count": 32,
     "metadata": {},
     "output_type": "execute_result"
    }
   ],
   "source": [
    "# checking the best parameters\n",
    "rs_log_reg.best_params_"
   ]
  },
  {
   "cell_type": "code",
   "execution_count": 33,
   "metadata": {},
   "outputs": [
    {
     "data": {
      "text/plain": [
       "0.74235807860262"
      ]
     },
     "execution_count": 33,
     "metadata": {},
     "output_type": "execute_result"
    }
   ],
   "source": [
    "rs_log_reg.score(x_test, y_test)"
   ]
  },
  {
   "cell_type": "markdown",
   "metadata": {},
   "source": [
    "#### The model improved after Tuning the hyperparameters "
   ]
  },
  {
   "cell_type": "markdown",
   "metadata": {},
   "source": [
    "### Using Naive Bayes"
   ]
  },
  {
   "cell_type": "code",
   "execution_count": 34,
   "metadata": {},
   "outputs": [
    {
     "data": {
      "text/plain": [
       "GaussianNB()"
      ]
     },
     "execution_count": 34,
     "metadata": {},
     "output_type": "execute_result"
    }
   ],
   "source": [
    "# Using Naive Bayes\n",
    "from sklearn.naive_bayes import GaussianNB\n",
    "model = GaussianNB()\n",
    "model.fit(x_train, y_train)"
   ]
  },
  {
   "cell_type": "code",
   "execution_count": 35,
   "metadata": {},
   "outputs": [
    {
     "name": "stdout",
     "output_type": "stream",
     "text": [
      "[[88  2]\n",
      " [57 82]]\n"
     ]
    },
    {
     "data": {
      "text/plain": [
       "0.74235807860262"
      ]
     },
     "execution_count": 35,
     "metadata": {},
     "output_type": "execute_result"
    }
   ],
   "source": [
    "# Predicting the y_test result with the classsifier model\n",
    "y_pred = model.predict(x_test)\n",
    "\n",
    "# Using confusion matrix and accuracy score to analyse the model's accuracy\n",
    "from sklearn.metrics import confusion_matrix, accuracy_score\n",
    "cm = confusion_matrix(y_test, y_pred)\n",
    "print(cm)\n",
    "accuracy_score(y_test, y_pred)"
   ]
  }
 ],
 "metadata": {
  "kernelspec": {
   "display_name": "Python 3",
   "language": "python",
   "name": "python3"
  },
  "language_info": {
   "codemirror_mode": {
    "name": "ipython",
    "version": 3
   },
   "file_extension": ".py",
   "mimetype": "text/x-python",
   "name": "python",
   "nbconvert_exporter": "python",
   "pygments_lexer": "ipython3",
   "version": "3.7.6"
  }
 },
 "nbformat": 4,
 "nbformat_minor": 5
}
