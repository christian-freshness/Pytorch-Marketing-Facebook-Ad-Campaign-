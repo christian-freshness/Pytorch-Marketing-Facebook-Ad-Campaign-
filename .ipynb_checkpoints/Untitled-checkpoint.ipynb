{
 "cells": [
  {
   "cell_type": "markdown",
   "id": "655df699",
   "metadata": {},
   "source": [
    "#### Basic cleaning of the data was done in Power BI, where some visualizations were also drawn. The data was rearranged to fit the age and gender columns correctly, while ad_id, reporting_end and fb_campaign_id were removed. Reporting_start column was formatted to have only the day of the month, since the month and year were all the same. The reporting_start was further changed to the particular day of the week name (Monday, Tuesday and so on) for better analysis purposes. So from that we saw that the marketing campaign lasted for two weeks. Lastly, we extracted the start of each age row in order to get a singular age to represent the whole age group; this was done for easier computing while creating the model."
   ]
  },
  {
   "cell_type": "markdown",
   "id": "6e97757c",
   "metadata": {},
   "source": [
    "## Imports"
   ]
  },
  {
   "cell_type": "code",
   "execution_count": 127,
   "id": "150cb5dc",
   "metadata": {},
   "outputs": [],
   "source": [
    "# Importing the libraries\n",
    "import numpy as np\n",
    "import matplotlib.pyplot as plt\n",
    "import pandas as pd"
   ]
  },
  {
   "cell_type": "code",
   "execution_count": 128,
   "id": "8e32ba20",
   "metadata": {},
   "outputs": [
    {
     "data": {
      "text/html": [
       "<div>\n",
       "<style scoped>\n",
       "    .dataframe tbody tr th:only-of-type {\n",
       "        vertical-align: middle;\n",
       "    }\n",
       "\n",
       "    .dataframe tbody tr th {\n",
       "        vertical-align: top;\n",
       "    }\n",
       "\n",
       "    .dataframe thead th {\n",
       "        text-align: right;\n",
       "    }\n",
       "</style>\n",
       "<table border=\"1\" class=\"dataframe\">\n",
       "  <thead>\n",
       "    <tr style=\"text-align: right;\">\n",
       "      <th></th>\n",
       "      <th>ad_id</th>\n",
       "      <th>reporting_start</th>\n",
       "      <th>reporting_end</th>\n",
       "      <th>campaign_id</th>\n",
       "      <th>fb_campaign_id</th>\n",
       "      <th>age</th>\n",
       "      <th>gender</th>\n",
       "      <th>interest1</th>\n",
       "      <th>interest2</th>\n",
       "      <th>interest3</th>\n",
       "      <th>impressions</th>\n",
       "      <th>clicks</th>\n",
       "      <th>spent</th>\n",
       "      <th>total_conversion</th>\n",
       "      <th>approved_conversion</th>\n",
       "    </tr>\n",
       "  </thead>\n",
       "  <tbody>\n",
       "    <tr>\n",
       "      <th>0</th>\n",
       "      <td>708746</td>\n",
       "      <td>17/08/2017</td>\n",
       "      <td>17/08/2017</td>\n",
       "      <td>916</td>\n",
       "      <td>103916</td>\n",
       "      <td>30-34</td>\n",
       "      <td>M</td>\n",
       "      <td>15</td>\n",
       "      <td>17</td>\n",
       "      <td>17</td>\n",
       "      <td>7350.0</td>\n",
       "      <td>1</td>\n",
       "      <td>1.43</td>\n",
       "      <td>2.0</td>\n",
       "      <td>1.0</td>\n",
       "    </tr>\n",
       "    <tr>\n",
       "      <th>1</th>\n",
       "      <td>708749</td>\n",
       "      <td>17/08/2017</td>\n",
       "      <td>17/08/2017</td>\n",
       "      <td>916</td>\n",
       "      <td>103917</td>\n",
       "      <td>30-34</td>\n",
       "      <td>M</td>\n",
       "      <td>16</td>\n",
       "      <td>19</td>\n",
       "      <td>21</td>\n",
       "      <td>17861.0</td>\n",
       "      <td>2</td>\n",
       "      <td>1.82</td>\n",
       "      <td>2.0</td>\n",
       "      <td>0.0</td>\n",
       "    </tr>\n",
       "    <tr>\n",
       "      <th>2</th>\n",
       "      <td>708771</td>\n",
       "      <td>17/08/2017</td>\n",
       "      <td>17/08/2017</td>\n",
       "      <td>916</td>\n",
       "      <td>103920</td>\n",
       "      <td>30-34</td>\n",
       "      <td>M</td>\n",
       "      <td>20</td>\n",
       "      <td>25</td>\n",
       "      <td>22</td>\n",
       "      <td>693.0</td>\n",
       "      <td>0</td>\n",
       "      <td>0.00</td>\n",
       "      <td>1.0</td>\n",
       "      <td>0.0</td>\n",
       "    </tr>\n",
       "    <tr>\n",
       "      <th>3</th>\n",
       "      <td>708815</td>\n",
       "      <td>30/08/2017</td>\n",
       "      <td>30/08/2017</td>\n",
       "      <td>916</td>\n",
       "      <td>103928</td>\n",
       "      <td>30-34</td>\n",
       "      <td>M</td>\n",
       "      <td>28</td>\n",
       "      <td>32</td>\n",
       "      <td>32</td>\n",
       "      <td>4259.0</td>\n",
       "      <td>1</td>\n",
       "      <td>1.25</td>\n",
       "      <td>1.0</td>\n",
       "      <td>0.0</td>\n",
       "    </tr>\n",
       "    <tr>\n",
       "      <th>4</th>\n",
       "      <td>708818</td>\n",
       "      <td>17/08/2017</td>\n",
       "      <td>17/08/2017</td>\n",
       "      <td>916</td>\n",
       "      <td>103928</td>\n",
       "      <td>30-34</td>\n",
       "      <td>M</td>\n",
       "      <td>28</td>\n",
       "      <td>33</td>\n",
       "      <td>32</td>\n",
       "      <td>4133.0</td>\n",
       "      <td>1</td>\n",
       "      <td>1.29</td>\n",
       "      <td>1.0</td>\n",
       "      <td>1.0</td>\n",
       "    </tr>\n",
       "  </tbody>\n",
       "</table>\n",
       "</div>"
      ],
      "text/plain": [
       "    ad_id reporting_start reporting_end campaign_id fb_campaign_id    age  \\\n",
       "0  708746      17/08/2017    17/08/2017         916         103916  30-34   \n",
       "1  708749      17/08/2017    17/08/2017         916         103917  30-34   \n",
       "2  708771      17/08/2017    17/08/2017         916         103920  30-34   \n",
       "3  708815      30/08/2017    30/08/2017         916         103928  30-34   \n",
       "4  708818      17/08/2017    17/08/2017         916         103928  30-34   \n",
       "\n",
       "  gender  interest1  interest2  interest3  impressions  clicks  spent  \\\n",
       "0      M         15         17         17       7350.0       1   1.43   \n",
       "1      M         16         19         21      17861.0       2   1.82   \n",
       "2      M         20         25         22        693.0       0   0.00   \n",
       "3      M         28         32         32       4259.0       1   1.25   \n",
       "4      M         28         33         32       4133.0       1   1.29   \n",
       "\n",
       "   total_conversion  approved_conversion  \n",
       "0               2.0                  1.0  \n",
       "1               2.0                  0.0  \n",
       "2               1.0                  0.0  \n",
       "3               1.0                  0.0  \n",
       "4               1.0                  1.0  "
      ]
     },
     "execution_count": 128,
     "metadata": {},
     "output_type": "execute_result"
    }
   ],
   "source": [
    "# importing the original dataset\n",
    "original_dataset = pd.read_csv('data.csv')\n",
    "original_dataset.head()"
   ]
  },
  {
   "cell_type": "code",
   "execution_count": 129,
   "id": "553c9fbb",
   "metadata": {},
   "outputs": [],
   "source": [
    "# importing the cleaned dataset\n",
    "df = pd.read_csv('cleaned_data1.csv')\n",
    "\n",
    "# Splittin the dataset to x (independent variables) and y (dependent variable)\n",
    "x = df.iloc[:, :-1]\n",
    "y = df.iloc[:, -1]"
   ]
  },
  {
   "cell_type": "code",
   "execution_count": 130,
   "id": "d6719cc7",
   "metadata": {},
   "outputs": [
    {
     "data": {
      "text/html": [
       "<div>\n",
       "<style scoped>\n",
       "    .dataframe tbody tr th:only-of-type {\n",
       "        vertical-align: middle;\n",
       "    }\n",
       "\n",
       "    .dataframe tbody tr th {\n",
       "        vertical-align: top;\n",
       "    }\n",
       "\n",
       "    .dataframe thead th {\n",
       "        text-align: right;\n",
       "    }\n",
       "</style>\n",
       "<table border=\"1\" class=\"dataframe\">\n",
       "  <thead>\n",
       "    <tr style=\"text-align: right;\">\n",
       "      <th></th>\n",
       "      <th>reporting_start</th>\n",
       "      <th>campaign_id</th>\n",
       "      <th>age</th>\n",
       "      <th>gender</th>\n",
       "      <th>interest1</th>\n",
       "      <th>interest2</th>\n",
       "      <th>interest3</th>\n",
       "      <th>impressions</th>\n",
       "      <th>clicks</th>\n",
       "      <th>spent</th>\n",
       "      <th>total_conversion</th>\n",
       "    </tr>\n",
       "  </thead>\n",
       "  <tbody>\n",
       "    <tr>\n",
       "      <th>0</th>\n",
       "      <td>Saturday</td>\n",
       "      <td>936</td>\n",
       "      <td>30</td>\n",
       "      <td>M</td>\n",
       "      <td>25</td>\n",
       "      <td>30</td>\n",
       "      <td>27</td>\n",
       "      <td>605</td>\n",
       "      <td>0</td>\n",
       "      <td>0.0</td>\n",
       "      <td>1</td>\n",
       "    </tr>\n",
       "    <tr>\n",
       "      <th>1</th>\n",
       "      <td>Saturday</td>\n",
       "      <td>936</td>\n",
       "      <td>30</td>\n",
       "      <td>M</td>\n",
       "      <td>26</td>\n",
       "      <td>32</td>\n",
       "      <td>29</td>\n",
       "      <td>1030</td>\n",
       "      <td>0</td>\n",
       "      <td>0.0</td>\n",
       "      <td>1</td>\n",
       "    </tr>\n",
       "    <tr>\n",
       "      <th>2</th>\n",
       "      <td>Sunday</td>\n",
       "      <td>936</td>\n",
       "      <td>30</td>\n",
       "      <td>M</td>\n",
       "      <td>36</td>\n",
       "      <td>38</td>\n",
       "      <td>38</td>\n",
       "      <td>962</td>\n",
       "      <td>0</td>\n",
       "      <td>0.0</td>\n",
       "      <td>1</td>\n",
       "    </tr>\n",
       "    <tr>\n",
       "      <th>3</th>\n",
       "      <td>Monday</td>\n",
       "      <td>936</td>\n",
       "      <td>35</td>\n",
       "      <td>M</td>\n",
       "      <td>23</td>\n",
       "      <td>24</td>\n",
       "      <td>27</td>\n",
       "      <td>239</td>\n",
       "      <td>0</td>\n",
       "      <td>0.0</td>\n",
       "      <td>1</td>\n",
       "    </tr>\n",
       "    <tr>\n",
       "      <th>4</th>\n",
       "      <td>Tuesday</td>\n",
       "      <td>936</td>\n",
       "      <td>35</td>\n",
       "      <td>M</td>\n",
       "      <td>26</td>\n",
       "      <td>27</td>\n",
       "      <td>28</td>\n",
       "      <td>591</td>\n",
       "      <td>0</td>\n",
       "      <td>0.0</td>\n",
       "      <td>1</td>\n",
       "    </tr>\n",
       "  </tbody>\n",
       "</table>\n",
       "</div>"
      ],
      "text/plain": [
       "  reporting_start  campaign_id  age gender  interest1  interest2  interest3  \\\n",
       "0        Saturday          936   30      M         25         30         27   \n",
       "1        Saturday          936   30      M         26         32         29   \n",
       "2          Sunday          936   30      M         36         38         38   \n",
       "3          Monday          936   35      M         23         24         27   \n",
       "4         Tuesday          936   35      M         26         27         28   \n",
       "\n",
       "   impressions  clicks  spent  total_conversion  \n",
       "0          605       0    0.0                 1  \n",
       "1         1030       0    0.0                 1  \n",
       "2          962       0    0.0                 1  \n",
       "3          239       0    0.0                 1  \n",
       "4          591       0    0.0                 1  "
      ]
     },
     "execution_count": 130,
     "metadata": {},
     "output_type": "execute_result"
    }
   ],
   "source": [
    "x.head()"
   ]
  },
  {
   "cell_type": "code",
   "execution_count": 131,
   "id": "4e5ab563",
   "metadata": {},
   "outputs": [
    {
     "data": {
      "text/html": [
       "<div>\n",
       "<style scoped>\n",
       "    .dataframe tbody tr th:only-of-type {\n",
       "        vertical-align: middle;\n",
       "    }\n",
       "\n",
       "    .dataframe tbody tr th {\n",
       "        vertical-align: top;\n",
       "    }\n",
       "\n",
       "    .dataframe thead th {\n",
       "        text-align: right;\n",
       "    }\n",
       "</style>\n",
       "<table border=\"1\" class=\"dataframe\">\n",
       "  <thead>\n",
       "    <tr style=\"text-align: right;\">\n",
       "      <th></th>\n",
       "      <th>campaign_id</th>\n",
       "      <th>age</th>\n",
       "      <th>interest1</th>\n",
       "      <th>interest2</th>\n",
       "      <th>interest3</th>\n",
       "      <th>impressions</th>\n",
       "      <th>clicks</th>\n",
       "      <th>spent</th>\n",
       "      <th>total_conversion</th>\n",
       "    </tr>\n",
       "  </thead>\n",
       "  <tbody>\n",
       "    <tr>\n",
       "      <th>count</th>\n",
       "      <td>1143.000000</td>\n",
       "      <td>1143.000000</td>\n",
       "      <td>1143.000000</td>\n",
       "      <td>1.143000e+03</td>\n",
       "      <td>1143.000000</td>\n",
       "      <td>1.143000e+03</td>\n",
       "      <td>1143.000000</td>\n",
       "      <td>1143.000000</td>\n",
       "      <td>1143.000000</td>\n",
       "    </tr>\n",
       "    <tr>\n",
       "      <th>mean</th>\n",
       "      <td>979.819773</td>\n",
       "      <td>36.321085</td>\n",
       "      <td>33.884514</td>\n",
       "      <td>1.180606e+05</td>\n",
       "      <td>42.474191</td>\n",
       "      <td>6.872501e+04</td>\n",
       "      <td>11.629921</td>\n",
       "      <td>17.597760</td>\n",
       "      <td>17.245844</td>\n",
       "    </tr>\n",
       "    <tr>\n",
       "      <th>std</th>\n",
       "      <td>103.403952</td>\n",
       "      <td>5.903868</td>\n",
       "      <td>27.560263</td>\n",
       "      <td>2.670506e+05</td>\n",
       "      <td>48.987248</td>\n",
       "      <td>2.067023e+05</td>\n",
       "      <td>27.347899</td>\n",
       "      <td>48.418711</td>\n",
       "      <td>30.412919</td>\n",
       "    </tr>\n",
       "    <tr>\n",
       "      <th>min</th>\n",
       "      <td>916.000000</td>\n",
       "      <td>30.000000</td>\n",
       "      <td>2.000000</td>\n",
       "      <td>3.000000e+00</td>\n",
       "      <td>0.000000</td>\n",
       "      <td>0.000000e+00</td>\n",
       "      <td>0.000000</td>\n",
       "      <td>0.000000</td>\n",
       "      <td>0.000000</td>\n",
       "    </tr>\n",
       "    <tr>\n",
       "      <th>25%</th>\n",
       "      <td>916.000000</td>\n",
       "      <td>30.000000</td>\n",
       "      <td>16.000000</td>\n",
       "      <td>2.200000e+01</td>\n",
       "      <td>19.000000</td>\n",
       "      <td>1.445000e+02</td>\n",
       "      <td>1.000000</td>\n",
       "      <td>0.000000</td>\n",
       "      <td>1.000000</td>\n",
       "    </tr>\n",
       "    <tr>\n",
       "      <th>50%</th>\n",
       "      <td>936.000000</td>\n",
       "      <td>35.000000</td>\n",
       "      <td>26.000000</td>\n",
       "      <td>3.300000e+01</td>\n",
       "      <td>27.000000</td>\n",
       "      <td>3.142000e+03</td>\n",
       "      <td>2.000000</td>\n",
       "      <td>1.530000</td>\n",
       "      <td>2.000000</td>\n",
       "    </tr>\n",
       "    <tr>\n",
       "      <th>75%</th>\n",
       "      <td>936.000000</td>\n",
       "      <td>40.000000</td>\n",
       "      <td>32.000000</td>\n",
       "      <td>9.889400e+04</td>\n",
       "      <td>38.000000</td>\n",
       "      <td>2.786400e+04</td>\n",
       "      <td>8.000000</td>\n",
       "      <td>8.540000</td>\n",
       "      <td>21.000000</td>\n",
       "    </tr>\n",
       "    <tr>\n",
       "      <th>max</th>\n",
       "      <td>1178.000000</td>\n",
       "      <td>45.000000</td>\n",
       "      <td>120.000000</td>\n",
       "      <td>2.286228e+06</td>\n",
       "      <td>421.000000</td>\n",
       "      <td>3.052003e+06</td>\n",
       "      <td>340.000000</td>\n",
       "      <td>639.949998</td>\n",
       "      <td>114.000000</td>\n",
       "    </tr>\n",
       "  </tbody>\n",
       "</table>\n",
       "</div>"
      ],
      "text/plain": [
       "       campaign_id          age    interest1     interest2    interest3  \\\n",
       "count  1143.000000  1143.000000  1143.000000  1.143000e+03  1143.000000   \n",
       "mean    979.819773    36.321085    33.884514  1.180606e+05    42.474191   \n",
       "std     103.403952     5.903868    27.560263  2.670506e+05    48.987248   \n",
       "min     916.000000    30.000000     2.000000  3.000000e+00     0.000000   \n",
       "25%     916.000000    30.000000    16.000000  2.200000e+01    19.000000   \n",
       "50%     936.000000    35.000000    26.000000  3.300000e+01    27.000000   \n",
       "75%     936.000000    40.000000    32.000000  9.889400e+04    38.000000   \n",
       "max    1178.000000    45.000000   120.000000  2.286228e+06   421.000000   \n",
       "\n",
       "        impressions       clicks        spent  total_conversion  \n",
       "count  1.143000e+03  1143.000000  1143.000000       1143.000000  \n",
       "mean   6.872501e+04    11.629921    17.597760         17.245844  \n",
       "std    2.067023e+05    27.347899    48.418711         30.412919  \n",
       "min    0.000000e+00     0.000000     0.000000          0.000000  \n",
       "25%    1.445000e+02     1.000000     0.000000          1.000000  \n",
       "50%    3.142000e+03     2.000000     1.530000          2.000000  \n",
       "75%    2.786400e+04     8.000000     8.540000         21.000000  \n",
       "max    3.052003e+06   340.000000   639.949998        114.000000  "
      ]
     },
     "execution_count": 131,
     "metadata": {},
     "output_type": "execute_result"
    }
   ],
   "source": [
    "x.describe()"
   ]
  },
  {
   "cell_type": "markdown",
   "id": "425d6281",
   "metadata": {},
   "source": [
    "## Encoding the categorical data"
   ]
  },
  {
   "cell_type": "code",
   "execution_count": 132,
   "id": "be97d08f",
   "metadata": {},
   "outputs": [],
   "source": [
    "# get dummies for age\n",
    "x = pd.concat([x, pd.get_dummies(x['reporting_start'], drop_first=True, prefix='rs')],axis=1)\n",
    "x.drop('reporting_start',inplace=True,axis=1)"
   ]
  },
  {
   "cell_type": "code",
   "execution_count": 133,
   "id": "8e9de3f0",
   "metadata": {},
   "outputs": [
    {
     "data": {
      "text/html": [
       "<div>\n",
       "<style scoped>\n",
       "    .dataframe tbody tr th:only-of-type {\n",
       "        vertical-align: middle;\n",
       "    }\n",
       "\n",
       "    .dataframe tbody tr th {\n",
       "        vertical-align: top;\n",
       "    }\n",
       "\n",
       "    .dataframe thead th {\n",
       "        text-align: right;\n",
       "    }\n",
       "</style>\n",
       "<table border=\"1\" class=\"dataframe\">\n",
       "  <thead>\n",
       "    <tr style=\"text-align: right;\">\n",
       "      <th></th>\n",
       "      <th>campaign_id</th>\n",
       "      <th>age</th>\n",
       "      <th>gender</th>\n",
       "      <th>interest1</th>\n",
       "      <th>interest2</th>\n",
       "      <th>interest3</th>\n",
       "      <th>impressions</th>\n",
       "      <th>clicks</th>\n",
       "      <th>spent</th>\n",
       "      <th>total_conversion</th>\n",
       "      <th>rs_Monday</th>\n",
       "      <th>rs_Saturday</th>\n",
       "      <th>rs_Sunday</th>\n",
       "      <th>rs_Thursday</th>\n",
       "      <th>rs_Tuesday</th>\n",
       "      <th>rs_Wednesday</th>\n",
       "    </tr>\n",
       "  </thead>\n",
       "  <tbody>\n",
       "    <tr>\n",
       "      <th>0</th>\n",
       "      <td>936</td>\n",
       "      <td>30</td>\n",
       "      <td>1</td>\n",
       "      <td>25</td>\n",
       "      <td>30</td>\n",
       "      <td>27</td>\n",
       "      <td>605</td>\n",
       "      <td>0</td>\n",
       "      <td>0.0</td>\n",
       "      <td>1</td>\n",
       "      <td>0</td>\n",
       "      <td>1</td>\n",
       "      <td>0</td>\n",
       "      <td>0</td>\n",
       "      <td>0</td>\n",
       "      <td>0</td>\n",
       "    </tr>\n",
       "    <tr>\n",
       "      <th>1</th>\n",
       "      <td>936</td>\n",
       "      <td>30</td>\n",
       "      <td>1</td>\n",
       "      <td>26</td>\n",
       "      <td>32</td>\n",
       "      <td>29</td>\n",
       "      <td>1030</td>\n",
       "      <td>0</td>\n",
       "      <td>0.0</td>\n",
       "      <td>1</td>\n",
       "      <td>0</td>\n",
       "      <td>1</td>\n",
       "      <td>0</td>\n",
       "      <td>0</td>\n",
       "      <td>0</td>\n",
       "      <td>0</td>\n",
       "    </tr>\n",
       "    <tr>\n",
       "      <th>2</th>\n",
       "      <td>936</td>\n",
       "      <td>30</td>\n",
       "      <td>1</td>\n",
       "      <td>36</td>\n",
       "      <td>38</td>\n",
       "      <td>38</td>\n",
       "      <td>962</td>\n",
       "      <td>0</td>\n",
       "      <td>0.0</td>\n",
       "      <td>1</td>\n",
       "      <td>0</td>\n",
       "      <td>0</td>\n",
       "      <td>1</td>\n",
       "      <td>0</td>\n",
       "      <td>0</td>\n",
       "      <td>0</td>\n",
       "    </tr>\n",
       "    <tr>\n",
       "      <th>3</th>\n",
       "      <td>936</td>\n",
       "      <td>35</td>\n",
       "      <td>1</td>\n",
       "      <td>23</td>\n",
       "      <td>24</td>\n",
       "      <td>27</td>\n",
       "      <td>239</td>\n",
       "      <td>0</td>\n",
       "      <td>0.0</td>\n",
       "      <td>1</td>\n",
       "      <td>1</td>\n",
       "      <td>0</td>\n",
       "      <td>0</td>\n",
       "      <td>0</td>\n",
       "      <td>0</td>\n",
       "      <td>0</td>\n",
       "    </tr>\n",
       "    <tr>\n",
       "      <th>4</th>\n",
       "      <td>936</td>\n",
       "      <td>35</td>\n",
       "      <td>1</td>\n",
       "      <td>26</td>\n",
       "      <td>27</td>\n",
       "      <td>28</td>\n",
       "      <td>591</td>\n",
       "      <td>0</td>\n",
       "      <td>0.0</td>\n",
       "      <td>1</td>\n",
       "      <td>0</td>\n",
       "      <td>0</td>\n",
       "      <td>0</td>\n",
       "      <td>0</td>\n",
       "      <td>1</td>\n",
       "      <td>0</td>\n",
       "    </tr>\n",
       "  </tbody>\n",
       "</table>\n",
       "</div>"
      ],
      "text/plain": [
       "   campaign_id  age  gender  interest1  interest2  interest3  impressions  \\\n",
       "0          936   30       1         25         30         27          605   \n",
       "1          936   30       1         26         32         29         1030   \n",
       "2          936   30       1         36         38         38          962   \n",
       "3          936   35       1         23         24         27          239   \n",
       "4          936   35       1         26         27         28          591   \n",
       "\n",
       "   clicks  spent  total_conversion  rs_Monday  rs_Saturday  rs_Sunday  \\\n",
       "0       0    0.0                 1          0            1          0   \n",
       "1       0    0.0                 1          0            1          0   \n",
       "2       0    0.0                 1          0            0          1   \n",
       "3       0    0.0                 1          1            0          0   \n",
       "4       0    0.0                 1          0            0          0   \n",
       "\n",
       "   rs_Thursday  rs_Tuesday  rs_Wednesday  \n",
       "0            0           0             0  \n",
       "1            0           0             0  \n",
       "2            0           0             0  \n",
       "3            0           0             0  \n",
       "4            0           1             0  "
      ]
     },
     "execution_count": 133,
     "metadata": {},
     "output_type": "execute_result"
    }
   ],
   "source": [
    "# Encoding the gender column\n",
    "from sklearn.preprocessing import LabelEncoder\n",
    "lb = LabelEncoder()\n",
    "x['gender'] = lb.fit_transform(x['gender'])\n",
    "\n",
    "x.head()"
   ]
  },
  {
   "cell_type": "code",
   "execution_count": 134,
   "id": "bb55a4ef",
   "metadata": {},
   "outputs": [
    {
     "data": {
      "text/plain": [
       "campaign_id         category\n",
       "age                    int32\n",
       "gender                 int32\n",
       "interest1              int32\n",
       "interest2              int32\n",
       "interest3              int32\n",
       "impressions            int32\n",
       "clicks                 int32\n",
       "spent                  int32\n",
       "total_conversion       int32\n",
       "rs_Monday              uint8\n",
       "rs_Saturday            uint8\n",
       "rs_Sunday              uint8\n",
       "rs_Thursday            uint8\n",
       "rs_Tuesday             uint8\n",
       "rs_Wednesday           uint8\n",
       "dtype: object"
      ]
     },
     "execution_count": 134,
     "metadata": {},
     "output_type": "execute_result"
    }
   ],
   "source": [
    "x.clicks=x.clicks.astype(int)\n",
    "x.age=x.age.astype(int)\n",
    "x.impressions=x.impressions.astype(int)\n",
    "x.spent=x.spent.astype(int)\n",
    "x.interest1=x.interest1.astype(int)\n",
    "x.interest2=x.interest2.astype(int)\n",
    "x.interest3=x.interest3.astype(int)\n",
    "x.campaign_id=x.campaign_id.astype('category')\n",
    "x.total_conversion=x.total_conversion.astype(int)\n",
    "\n",
    "x.dtypes"
   ]
  },
  {
   "cell_type": "code",
   "execution_count": 135,
   "id": "e57c6965",
   "metadata": {},
   "outputs": [
    {
     "data": {
      "text/plain": [
       "1    735\n",
       "0    408\n",
       "Name: approved_conversion, dtype: int64"
      ]
     },
     "execution_count": 135,
     "metadata": {},
     "output_type": "execute_result"
    }
   ],
   "source": [
    "# Encoding the approved_conversion column to have class balance. \n",
    "y = y.replace([range(2,22000)], 1)\n",
    "\n",
    "y = y.astype('category')\n",
    "y.value_counts()"
   ]
  },
  {
   "cell_type": "markdown",
   "id": "29df05f8",
   "metadata": {},
   "source": [
    "## Splitting the dataset to Trainning and Test set"
   ]
  },
  {
   "cell_type": "code",
   "execution_count": 136,
   "id": "fd850713",
   "metadata": {},
   "outputs": [
    {
     "data": {
      "text/html": [
       "<div>\n",
       "<style scoped>\n",
       "    .dataframe tbody tr th:only-of-type {\n",
       "        vertical-align: middle;\n",
       "    }\n",
       "\n",
       "    .dataframe tbody tr th {\n",
       "        vertical-align: top;\n",
       "    }\n",
       "\n",
       "    .dataframe thead th {\n",
       "        text-align: right;\n",
       "    }\n",
       "</style>\n",
       "<table border=\"1\" class=\"dataframe\">\n",
       "  <thead>\n",
       "    <tr style=\"text-align: right;\">\n",
       "      <th></th>\n",
       "      <th>campaign_id</th>\n",
       "      <th>age</th>\n",
       "      <th>gender</th>\n",
       "      <th>interest1</th>\n",
       "      <th>interest2</th>\n",
       "      <th>interest3</th>\n",
       "      <th>impressions</th>\n",
       "      <th>clicks</th>\n",
       "      <th>spent</th>\n",
       "      <th>total_conversion</th>\n",
       "      <th>rs_Monday</th>\n",
       "      <th>rs_Saturday</th>\n",
       "      <th>rs_Sunday</th>\n",
       "      <th>rs_Thursday</th>\n",
       "      <th>rs_Tuesday</th>\n",
       "      <th>rs_Wednesday</th>\n",
       "    </tr>\n",
       "  </thead>\n",
       "  <tbody>\n",
       "    <tr>\n",
       "      <th>12</th>\n",
       "      <td>936</td>\n",
       "      <td>35</td>\n",
       "      <td>0</td>\n",
       "      <td>64</td>\n",
       "      <td>65</td>\n",
       "      <td>68</td>\n",
       "      <td>1393</td>\n",
       "      <td>0</td>\n",
       "      <td>0</td>\n",
       "      <td>1</td>\n",
       "      <td>0</td>\n",
       "      <td>0</td>\n",
       "      <td>0</td>\n",
       "      <td>0</td>\n",
       "      <td>0</td>\n",
       "      <td>0</td>\n",
       "    </tr>\n",
       "    <tr>\n",
       "      <th>758</th>\n",
       "      <td>916</td>\n",
       "      <td>35</td>\n",
       "      <td>0</td>\n",
       "      <td>110</td>\n",
       "      <td>502710</td>\n",
       "      <td>72</td>\n",
       "      <td>105</td>\n",
       "      <td>8</td>\n",
       "      <td>2</td>\n",
       "      <td>108</td>\n",
       "      <td>0</td>\n",
       "      <td>0</td>\n",
       "      <td>0</td>\n",
       "      <td>0</td>\n",
       "      <td>0</td>\n",
       "      <td>0</td>\n",
       "    </tr>\n",
       "    <tr>\n",
       "      <th>636</th>\n",
       "      <td>1178</td>\n",
       "      <td>35</td>\n",
       "      <td>1</td>\n",
       "      <td>25</td>\n",
       "      <td>30</td>\n",
       "      <td>29</td>\n",
       "      <td>368986</td>\n",
       "      <td>59</td>\n",
       "      <td>100</td>\n",
       "      <td>0</td>\n",
       "      <td>0</td>\n",
       "      <td>0</td>\n",
       "      <td>0</td>\n",
       "      <td>0</td>\n",
       "      <td>1</td>\n",
       "      <td>0</td>\n",
       "    </tr>\n",
       "    <tr>\n",
       "      <th>1109</th>\n",
       "      <td>916</td>\n",
       "      <td>40</td>\n",
       "      <td>0</td>\n",
       "      <td>29</td>\n",
       "      <td>195220</td>\n",
       "      <td>51</td>\n",
       "      <td>78</td>\n",
       "      <td>1</td>\n",
       "      <td>0</td>\n",
       "      <td>23</td>\n",
       "      <td>0</td>\n",
       "      <td>0</td>\n",
       "      <td>0</td>\n",
       "      <td>1</td>\n",
       "      <td>0</td>\n",
       "      <td>0</td>\n",
       "    </tr>\n",
       "    <tr>\n",
       "      <th>743</th>\n",
       "      <td>916</td>\n",
       "      <td>30</td>\n",
       "      <td>1</td>\n",
       "      <td>103</td>\n",
       "      <td>72228</td>\n",
       "      <td>5</td>\n",
       "      <td>8</td>\n",
       "      <td>4</td>\n",
       "      <td>4</td>\n",
       "      <td>101</td>\n",
       "      <td>0</td>\n",
       "      <td>0</td>\n",
       "      <td>0</td>\n",
       "      <td>0</td>\n",
       "      <td>0</td>\n",
       "      <td>0</td>\n",
       "    </tr>\n",
       "  </tbody>\n",
       "</table>\n",
       "</div>"
      ],
      "text/plain": [
       "     campaign_id  age  gender  interest1  interest2  interest3  impressions  \\\n",
       "12           936   35       0         64         65         68         1393   \n",
       "758          916   35       0        110     502710         72          105   \n",
       "636         1178   35       1         25         30         29       368986   \n",
       "1109         916   40       0         29     195220         51           78   \n",
       "743          916   30       1        103      72228          5            8   \n",
       "\n",
       "      clicks  spent  total_conversion  rs_Monday  rs_Saturday  rs_Sunday  \\\n",
       "12         0      0                 1          0            0          0   \n",
       "758        8      2               108          0            0          0   \n",
       "636       59    100                 0          0            0          0   \n",
       "1109       1      0                23          0            0          0   \n",
       "743        4      4               101          0            0          0   \n",
       "\n",
       "      rs_Thursday  rs_Tuesday  rs_Wednesday  \n",
       "12              0           0             0  \n",
       "758             0           0             0  \n",
       "636             0           1             0  \n",
       "1109            1           0             0  \n",
       "743             0           0             0  "
      ]
     },
     "execution_count": 136,
     "metadata": {},
     "output_type": "execute_result"
    }
   ],
   "source": [
    "from sklearn.model_selection import train_test_split\n",
    "x_train, x_test, y_train, y_test = train_test_split(x, y, test_size = 0.2, random_state = 42)\n",
    "\n",
    "x_train.head()"
   ]
  },
  {
   "cell_type": "markdown",
   "id": "8ad0ae90",
   "metadata": {},
   "source": [
    "## Feature Scaling"
   ]
  },
  {
   "cell_type": "code",
   "execution_count": 137,
   "id": "e2c0ff0a",
   "metadata": {},
   "outputs": [
    {
     "data": {
      "text/plain": [
       "array([[-0.43847354, -0.24253441, -1.065605  , ..., -0.34655164,\n",
       "        -0.39803064, -0.44838739],\n",
       "       [-0.62883349, -0.24253441, -1.065605  , ..., -0.34655164,\n",
       "        -0.39803064, -0.44838739],\n",
       "       [ 1.86488192, -0.24253441,  0.93843403, ..., -0.34655164,\n",
       "         2.5123694 , -0.44838739],\n",
       "       ...,\n",
       "       [-0.62883349, -0.24253441,  0.93843403, ..., -0.34655164,\n",
       "        -0.39803064, -0.44838739],\n",
       "       [-0.62883349,  1.43049538,  0.93843403, ..., -0.34655164,\n",
       "         2.5123694 , -0.44838739],\n",
       "       [-0.62883349,  1.43049538, -1.065605  , ..., -0.34655164,\n",
       "        -0.39803064, -0.44838739]])"
      ]
     },
     "execution_count": 137,
     "metadata": {},
     "output_type": "execute_result"
    }
   ],
   "source": [
    "from sklearn.preprocessing import StandardScaler\n",
    "sc = StandardScaler()\n",
    "x_train = sc.fit_transform(x_train)\n",
    "x_test = sc.transform(x_test)\n",
    "\n",
    "x_train"
   ]
  },
  {
   "cell_type": "markdown",
   "id": "bf3a229b",
   "metadata": {},
   "source": [
    "## Trainning the Model on the Trainning Sets and Predicting the Test Set results"
   ]
  },
  {
   "cell_type": "markdown",
   "id": "599f1ac7",
   "metadata": {},
   "source": [
    "### Using logistic regression"
   ]
  },
  {
   "cell_type": "code",
   "execution_count": 148,
   "id": "5c9d3908",
   "metadata": {},
   "outputs": [
    {
     "data": {
      "text/plain": [
       "LogisticRegression(random_state=0)"
      ]
     },
     "execution_count": 148,
     "metadata": {},
     "output_type": "execute_result"
    }
   ],
   "source": [
    "from sklearn.linear_model import LogisticRegression\n",
    "classifier = LogisticRegression(random_state = 0)\n",
    "classifier.fit(x_train, y_train)"
   ]
  },
  {
   "cell_type": "code",
   "execution_count": 139,
   "id": "e0d17508",
   "metadata": {},
   "outputs": [
    {
     "name": "stdout",
     "output_type": "stream",
     "text": [
      "[[77 13]\n",
      " [51 88]]\n"
     ]
    },
    {
     "data": {
      "text/plain": [
       "0.7205240174672489"
      ]
     },
     "execution_count": 139,
     "metadata": {},
     "output_type": "execute_result"
    }
   ],
   "source": [
    "# Predicting the y_test result with the classsifier model\n",
    "y_pred = classifier.predict(x_test)\n",
    "\n",
    "# Using confusion matrix and accuracy score to analyse the model's accuracy\n",
    "from sklearn.metrics import confusion_matrix, accuracy_score\n",
    "cm = confusion_matrix(y_test, y_pred)\n",
    "print(cm)\n",
    "accuracy_score(y_test, y_pred)"
   ]
  },
  {
   "cell_type": "code",
   "execution_count": 156,
   "id": "ed054401",
   "metadata": {},
   "outputs": [],
   "source": [
    "# Tuning the hyperparameters using Randomized Search Cv to try to improve the Model\n",
    "\n",
    "# Setting up the grid parameters\n",
    "log_reg_grid = {\"C\": np.logspace(-4, 4, 20),\n",
    "                \"solver\": [\"liblinear\"]}\n",
    "\n",
    "from sklearn.model_selection import RandomizedSearchCV"
   ]
  },
  {
   "cell_type": "code",
   "execution_count": 157,
   "id": "96bfd681",
   "metadata": {},
   "outputs": [
    {
     "name": "stdout",
     "output_type": "stream",
     "text": [
      "Fitting 5 folds for each of 20 candidates, totalling 100 fits\n"
     ]
    }
   ],
   "source": [
    "# Setup random seed\n",
    "np.random.seed(42)\n",
    "\n",
    "# Setup random hyperparameter search for LogisticRegression\n",
    "rs_log_reg = RandomizedSearchCV(LogisticRegression(),\n",
    "                                param_distributions=log_reg_grid,\n",
    "                                cv=5,\n",
    "                                n_iter=20,\n",
    "                                verbose=True)\n",
    "\n",
    "# Fit random hyperparameter search model\n",
    "rs_log_reg.fit(x_train, y_train);"
   ]
  },
  {
   "cell_type": "code",
   "execution_count": 158,
   "id": "25cc449e",
   "metadata": {},
   "outputs": [
    {
     "data": {
      "text/plain": [
       "{'solver': 'liblinear', 'C': 78.47599703514607}"
      ]
     },
     "execution_count": 158,
     "metadata": {},
     "output_type": "execute_result"
    }
   ],
   "source": [
    "# checking the best parameters\n",
    "rs_log_reg.best_params_"
   ]
  },
  {
   "cell_type": "code",
   "execution_count": 159,
   "id": "36be0fa3",
   "metadata": {},
   "outputs": [
    {
     "data": {
      "text/plain": [
       "0.74235807860262"
      ]
     },
     "execution_count": 159,
     "metadata": {},
     "output_type": "execute_result"
    }
   ],
   "source": [
    "rs_log_reg.score(x_test, y_test)"
   ]
  },
  {
   "cell_type": "code",
   "execution_count": null,
   "id": "a81abefc",
   "metadata": {},
   "outputs": [],
   "source": []
  },
  {
   "cell_type": "markdown",
   "id": "d6f0e88f",
   "metadata": {},
   "source": [
    "### Using Naive Bayes"
   ]
  },
  {
   "cell_type": "code",
   "execution_count": 141,
   "id": "319bf676",
   "metadata": {},
   "outputs": [
    {
     "data": {
      "text/plain": [
       "GaussianNB()"
      ]
     },
     "execution_count": 141,
     "metadata": {},
     "output_type": "execute_result"
    }
   ],
   "source": [
    "# Using Naive Bayes\n",
    "from sklearn.naive_bayes import GaussianNB\n",
    "classifier = GaussianNB()\n",
    "classifier.fit(x_train, y_train)"
   ]
  },
  {
   "cell_type": "code",
   "execution_count": 142,
   "id": "840c194a",
   "metadata": {},
   "outputs": [
    {
     "name": "stdout",
     "output_type": "stream",
     "text": [
      "[[88  2]\n",
      " [57 82]]\n"
     ]
    },
    {
     "data": {
      "text/plain": [
       "0.74235807860262"
      ]
     },
     "execution_count": 142,
     "metadata": {},
     "output_type": "execute_result"
    }
   ],
   "source": [
    "# Predicting the y_test result with the classsifier model\n",
    "y_pred = classifier.predict(x_test)\n",
    "\n",
    "# Using confusion matrix and accuracy score to analyse the model's accuracy\n",
    "from sklearn.metrics import confusion_matrix, accuracy_score\n",
    "cm = confusion_matrix(y_test, y_pred)\n",
    "print(cm)\n",
    "accuracy_score(y_test, y_pred)"
   ]
  },
  {
   "cell_type": "code",
   "execution_count": 150,
   "id": "e114873a",
   "metadata": {},
   "outputs": [],
   "source": [
    "# Tuning the hyperparameters using Randomized Search Cv to try to improve the Model\n",
    "\n",
    "# Setting up the grid parameters\n",
    "log_reg_grid = {\"C\": np.logspace(-4, 4, 20),\n",
    "                \"solver\": [\"liblinear\"]}\n",
    "\n",
    "from sklearn.model_selection import RandomizedSearchCV"
   ]
  },
  {
   "cell_type": "code",
   "execution_count": 152,
   "id": "b018042c",
   "metadata": {},
   "outputs": [
    {
     "name": "stdout",
     "output_type": "stream",
     "text": [
      "Fitting 5 folds for each of 20 candidates, totalling 100 fits\n"
     ]
    }
   ],
   "source": [
    "# Setup random seed\n",
    "np.random.seed(42)\n",
    "\n",
    "# Setup random hyperparameter search for LogisticRegression\n",
    "rs_log_reg = RandomizedSearchCV(LogisticRegression(),\n",
    "                                param_distributions=log_reg_grid,\n",
    "                                cv=5,\n",
    "                                n_iter=20,\n",
    "                                verbose=True)\n",
    "\n",
    "# Fit random hyperparameter search model\n",
    "rs_log_reg.fit(x_train, y_train);"
   ]
  },
  {
   "cell_type": "code",
   "execution_count": 153,
   "id": "3e311ceb",
   "metadata": {},
   "outputs": [
    {
     "data": {
      "text/plain": [
       "{'solver': 'liblinear', 'C': 78.47599703514607}"
      ]
     },
     "execution_count": 153,
     "metadata": {},
     "output_type": "execute_result"
    }
   ],
   "source": [
    "# checking the best parameters\n",
    "rs_log_reg.best_params_"
   ]
  },
  {
   "cell_type": "code",
   "execution_count": 155,
   "id": "eb7e516b",
   "metadata": {},
   "outputs": [
    {
     "data": {
      "text/plain": [
       "0.74235807860262"
      ]
     },
     "execution_count": 155,
     "metadata": {},
     "output_type": "execute_result"
    }
   ],
   "source": [
    "rs_log_reg.score(x_test, y_test)"
   ]
  },
  {
   "cell_type": "markdown",
   "id": "8fea2d87",
   "metadata": {},
   "source": [
    "### Using Decision Tree"
   ]
  },
  {
   "cell_type": "code",
   "execution_count": 145,
   "id": "8525cef0",
   "metadata": {},
   "outputs": [
    {
     "data": {
      "text/plain": [
       "DecisionTreeClassifier(criterion='entropy', random_state=0)"
      ]
     },
     "execution_count": 145,
     "metadata": {},
     "output_type": "execute_result"
    }
   ],
   "source": [
    "# Using Decision Tree\n",
    "from sklearn.tree import DecisionTreeClassifier\n",
    "classifier = DecisionTreeClassifier(criterion = 'entropy', random_state = 0)\n",
    "classifier.fit(x_train, y_train)"
   ]
  },
  {
   "cell_type": "code",
   "execution_count": 146,
   "id": "49adc4e9",
   "metadata": {},
   "outputs": [
    {
     "name": "stdout",
     "output_type": "stream",
     "text": [
      "[[ 61  29]\n",
      " [ 34 105]]\n"
     ]
    },
    {
     "data": {
      "text/plain": [
       "0.7248908296943232"
      ]
     },
     "execution_count": 146,
     "metadata": {},
     "output_type": "execute_result"
    }
   ],
   "source": [
    "# Predicting the y_test result with the classsifier model\n",
    "y_pred = classifier.predict(x_test)\n",
    "\n",
    "# Using confusion matrix and accuracy score to analyse the model's accuracy\n",
    "from sklearn.metrics import confusion_matrix, accuracy_score\n",
    "cm = confusion_matrix(y_test, y_pred)\n",
    "print(cm)\n",
    "accuracy_score(y_test, y_pred)"
   ]
  },
  {
   "cell_type": "code",
   "execution_count": 160,
   "id": "336591b9",
   "metadata": {},
   "outputs": [],
   "source": [
    "# Tuning the hyperparameters using Randomized Search Cv to try to improve the Model\n",
    "\n",
    "# Setting up the grid parameters\n",
    "log_reg_grid = {\"C\": np.logspace(-4, 4, 20),\n",
    "                \"solver\": [\"liblinear\"]}\n",
    "\n",
    "from sklearn.model_selection import RandomizedSearchCV"
   ]
  },
  {
   "cell_type": "code",
   "execution_count": 161,
   "id": "b424ecba",
   "metadata": {},
   "outputs": [
    {
     "name": "stdout",
     "output_type": "stream",
     "text": [
      "Fitting 5 folds for each of 20 candidates, totalling 100 fits\n"
     ]
    }
   ],
   "source": [
    "# Setup random seed\n",
    "np.random.seed(42)\n",
    "\n",
    "# Setup random hyperparameter search for LogisticRegression\n",
    "rs_log_reg = RandomizedSearchCV(LogisticRegression(),\n",
    "                                param_distributions=log_reg_grid,\n",
    "                                cv=5,\n",
    "                                n_iter=20,\n",
    "                                verbose=True)\n",
    "\n",
    "# Fit random hyperparameter search model\n",
    "rs_log_reg.fit(x_train, y_train);"
   ]
  },
  {
   "cell_type": "code",
   "execution_count": 162,
   "id": "30ace10f",
   "metadata": {},
   "outputs": [
    {
     "data": {
      "text/plain": [
       "{'solver': 'liblinear', 'C': 78.47599703514607}"
      ]
     },
     "execution_count": 162,
     "metadata": {},
     "output_type": "execute_result"
    }
   ],
   "source": [
    "# checking the best parameters\n",
    "rs_log_reg.best_params_"
   ]
  },
  {
   "cell_type": "code",
   "execution_count": 163,
   "id": "0ed0b3db",
   "metadata": {},
   "outputs": [
    {
     "data": {
      "text/plain": [
       "0.74235807860262"
      ]
     },
     "execution_count": 163,
     "metadata": {},
     "output_type": "execute_result"
    }
   ],
   "source": [
    "rs_log_reg.score(x_test, y_test)"
   ]
  }
 ],
 "metadata": {
  "kernelspec": {
   "display_name": "Python 3",
   "language": "python",
   "name": "python3"
  },
  "language_info": {
   "codemirror_mode": {
    "name": "ipython",
    "version": 3
   },
   "file_extension": ".py",
   "mimetype": "text/x-python",
   "name": "python",
   "nbconvert_exporter": "python",
   "pygments_lexer": "ipython3",
   "version": "3.8.8"
  }
 },
 "nbformat": 4,
 "nbformat_minor": 5
}
